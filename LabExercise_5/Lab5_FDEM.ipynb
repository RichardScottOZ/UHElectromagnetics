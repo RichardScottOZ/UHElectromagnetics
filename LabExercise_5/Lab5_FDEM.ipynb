{
  "cells": [
    {
      "metadata": {},
      "cell_type": "markdown",
      "source": "# Understanding frequency-domain EM with an inductive source"
    },
    {
      "metadata": {},
      "cell_type": "markdown",
      "source": "In this lab exercise, we focus on frequency-domain EM with an inductive source such as a vertical magnetic dipole. The objective of this lab exercise is to help students develop a better understanding of frequency-domain EM, with the help of the interactive apps that allow students to adjust model and survey parameters and simulate EM fields and fluxes. <br>\n\nAfter finishing this exercise, students will understand <br>\n* How the currents distribute in a homogenous halfspace;\n* How the frequecy affects the distribution of currents;\n* How the background conductivity affect the distribution of currents;\n* How varying the conductivity of a layer affects the currents;\n* How a near-surface layer affects the detection of a deep conductor.\n\nAuthor: Jiajia Sun at University of Houston, October 23rd, 2018."
    },
    {
      "metadata": {},
      "cell_type": "markdown",
      "source": "## 1. Install dependent packages"
    },
    {
      "metadata": {
        "trusted": true
      },
      "cell_type": "code",
      "source": "!pip install -r ../requirements.txt",
      "execution_count": null,
      "outputs": [
        {
          "output_type": "stream",
          "text": "Requirement already satisfied: numpy in /home/nbuser/anaconda3_420/lib/python3.5/site-packages (from -r ../requirements.txt (line 1)) (1.15.2)\nRequirement already satisfied: scipy in /home/nbuser/anaconda3_420/lib/python3.5/site-packages (from -r ../requirements.txt (line 2)) (1.1.0)\nRequirement already satisfied: matplotlib in /home/nbuser/anaconda3_420/lib/python3.5/site-packages (from -r ../requirements.txt (line 3)) (2.1.1)\nRequirement already satisfied: Pillow in /home/nbuser/anaconda3_420/lib/python3.5/site-packages (from -r ../requirements.txt (line 4)) (4.3.0)\nRequirement already satisfied: ipywidgets>=0.6.0 in /home/nbuser/anaconda3_420/lib/python3.5/site-packages (from -r ../requirements.txt (line 5)) (7.2.1)\nRequirement already satisfied: requests in /home/nbuser/anaconda3_420/lib/python3.5/site-packages (from -r ../requirements.txt (line 6)) (2.19.1)\nCollecting SimPEG (from -r ../requirements.txt (line 7))\n  Using cached https://files.pythonhosted.org/packages/4f/b5/042629700a6bec03b3a693c4dcb15b15087668c5ae5f4142ba8d7b8aee8e/SimPEG-0.9.2-py2.py3-none-any.whl\nCollecting em_examples (from -r ../requirements.txt (line 8))\n  Using cached https://files.pythonhosted.org/packages/e8/39/1a285f68abfdbacc00deefbcd7d2053b6dd67d9ab384a4cbc70a523ae84c/em_examples-0.0.35-py3-none-any.whl\nCollecting empymod (from -r ../requirements.txt (line 9))\n  Using cached https://files.pythonhosted.org/packages/48/5a/21fe6dcb608e183b300cb94710dc15329a8c8f3ba4cfc769c3d8ca9ff15f/empymod-1.8.0-py3-none-any.whl\nCollecting deepdish (from -r ../requirements.txt (line 10))\n  Using cached https://files.pythonhosted.org/packages/6e/39/2a47c852651982bc5eb39212ac110284dd20126bdc7b49bde401a0139f5d/deepdish-0.3.6-py2.py3-none-any.whl\nCollecting pymatsolver>=0.1.2 (from -r ../requirements.txt (line 11))\n  Using cached https://files.pythonhosted.org/packages/0f/5e/30e92dfe738cc3e28f52344484aa2c6e44872787b2edd789df0eaae04e3b/pymatsolver-0.1.2.tar.gz\nRequirement already satisfied: six>=1.10 in /home/nbuser/anaconda3_420/lib/python3.5/site-packages (from matplotlib->-r ../requirements.txt (line 3)) (1.11.0)\nRequirement already satisfied: python-dateutil>=2.0 in /home/nbuser/anaconda3_420/lib/python3.5/site-packages (from matplotlib->-r ../requirements.txt (line 3)) (2.7.3)\nRequirement already satisfied: pytz in /home/nbuser/anaconda3_420/lib/python3.5/site-packages (from matplotlib->-r ../requirements.txt (line 3)) (2016.6.1)\nRequirement already satisfied: cycler>=0.10 in /home/nbuser/anaconda3_420/lib/python3.5/site-packages (from matplotlib->-r ../requirements.txt (line 3)) (0.10.0)\nRequirement already satisfied: pyparsing!=2.0.4,!=2.1.2,!=2.1.6,>=2.0.1 in /home/nbuser/anaconda3_420/lib/python3.5/site-packages (from matplotlib->-r ../requirements.txt (line 3)) (2.1.4)\nRequirement already satisfied: olefile in /home/nbuser/anaconda3_420/lib/python3.5/site-packages (from Pillow->-r ../requirements.txt (line 4)) (0.44)\nRequirement already satisfied: ipykernel>=4.5.1 in /home/nbuser/anaconda3_420/lib/python3.5/site-packages (from ipywidgets>=0.6.0->-r ../requirements.txt (line 5)) (4.7.0)\nRequirement already satisfied: traitlets>=4.3.1 in /home/nbuser/anaconda3_420/lib/python3.5/site-packages (from ipywidgets>=0.6.0->-r ../requirements.txt (line 5)) (4.3.1)\nRequirement already satisfied: nbformat>=4.2.0 in /home/nbuser/anaconda3_420/lib/python3.5/site-packages (from ipywidgets>=0.6.0->-r ../requirements.txt (line 5)) (4.2.0)\nRequirement already satisfied: widgetsnbextension~=3.2.0 in /home/nbuser/anaconda3_420/lib/python3.5/site-packages (from ipywidgets>=0.6.0->-r ../requirements.txt (line 5)) (3.2.0)\nRequirement already satisfied: ipython>=4.0.0 in /home/nbuser/anaconda3_420/lib/python3.5/site-packages (from ipywidgets>=0.6.0->-r ../requirements.txt (line 5)) (6.2.1)\nRequirement already satisfied: chardet<3.1.0,>=3.0.2 in /home/nbuser/anaconda3_420/lib/python3.5/site-packages (from requests->-r ../requirements.txt (line 6)) (3.0.4)\nRequirement already satisfied: urllib3<1.24,>=1.21.1 in /home/nbuser/anaconda3_420/lib/python3.5/site-packages (from requests->-r ../requirements.txt (line 6)) (1.23)\nRequirement already satisfied: idna<2.8,>=2.5 in /home/nbuser/anaconda3_420/lib/python3.5/site-packages (from requests->-r ../requirements.txt (line 6)) (2.7)\nRequirement already satisfied: certifi>=2017.4.17 in /home/nbuser/anaconda3_420/lib/python3.5/site-packages (from requests->-r ../requirements.txt (line 6)) (2018.8.24)\nCollecting discretize>=0.2.0 (from SimPEG->-r ../requirements.txt (line 7))\n  Using cached https://files.pythonhosted.org/packages/59/21/b02369ff06c347566dacd328c62845641aa97c7f61b594c99e63e424dfd0/discretize-0.3.4.tar.gz\nCollecting properties>=0.5.2 (from SimPEG->-r ../requirements.txt (line 7))\n  Using cached https://files.pythonhosted.org/packages/22/74/b635f83a423697799fea8e195f6bd44ce53ca12d76ae62b2cc8cb978980d/properties-0.5.4.tar.gz\nCollecting vectormath>=0.2.0 (from SimPEG->-r ../requirements.txt (line 7))\n  Using cached https://files.pythonhosted.org/packages/c7/44/297304759e6e5076b5fe96cdef1dd7ff6e1c67b1e735a8284ab7f5555712/vectormath-0.2.0.tar.gz\nCollecting geoana>=0.0.4 (from SimPEG->-r ../requirements.txt (line 7))\n  Using cached https://files.pythonhosted.org/packages/60/34/5715c1b3e35b4b7e0fdef463405c9ae5b073563f48118f2a54165be78cdc/geoana-0.0.5-py2.py3-none-any.whl\nRequirement already satisfied: cython in /home/nbuser/anaconda3_420/lib/python3.5/site-packages (from SimPEG->-r ../requirements.txt (line 7)) (0.24.1)\nRequirement already satisfied: future in /home/nbuser/anaconda3_420/lib/python3.5/site-packages (from em_examples->-r ../requirements.txt (line 8)) (0.16.0)\nRequirement already satisfied: jupyter in /home/nbuser/anaconda3_420/lib/python3.5/site-packages (from em_examples->-r ../requirements.txt (line 8)) (1.0.0)\nRequirement already satisfied: tables in /home/nbuser/anaconda3_420/lib/python3.5/site-packages (from deepdish->-r ../requirements.txt (line 10)) (3.4.2)\nCollecting pyMKL>=0.0.3 (from pymatsolver>=0.1.2->-r ../requirements.txt (line 11))\n  Using cached https://files.pythonhosted.org/packages/43/9d/0657fdb64d31a83c5caab80a70e55dac7658ba3fac7d1f43cbcca726b286/pyMKL-0.0.3.tar.gz\nRequirement already satisfied: jupyter_client in /home/nbuser/anaconda3_420/lib/python3.5/site-packages (from ipykernel>=4.5.1->ipywidgets>=0.6.0->-r ../requirements.txt (line 5)) (5.1.0)\nRequirement already satisfied: tornado>=4.0 in /home/nbuser/anaconda3_420/lib/python3.5/site-packages (from ipykernel>=4.5.1->ipywidgets>=0.6.0->-r ../requirements.txt (line 5)) (4.4.1)\nRequirement already satisfied: notebook>=4.4.1 in /home/nbuser/anaconda3_420/lib/python3.5/site-packages (from widgetsnbextension~=3.2.0->ipywidgets>=0.6.0->-r ../requirements.txt (line 5)) (5.0.0)\nRequirement already satisfied: setuptools>=18.5 in /home/nbuser/anaconda3_420/lib/python3.5/site-packages (from ipython>=4.0.0->ipywidgets>=0.6.0->-r ../requirements.txt (line 5)) (40.4.3)\nRequirement already satisfied: jedi>=0.10 in /home/nbuser/anaconda3_420/lib/python3.5/site-packages (from ipython>=4.0.0->ipywidgets>=0.6.0->-r ../requirements.txt (line 5)) (0.11.0)\nRequirement already satisfied: decorator in /home/nbuser/anaconda3_420/lib/python3.5/site-packages (from ipython>=4.0.0->ipywidgets>=0.6.0->-r ../requirements.txt (line 5)) (4.0.10)\nRequirement already satisfied: pickleshare in /home/nbuser/anaconda3_420/lib/python3.5/site-packages (from ipython>=4.0.0->ipywidgets>=0.6.0->-r ../requirements.txt (line 5)) (0.7.4)\nRequirement already satisfied: simplegeneric>0.8 in /home/nbuser/anaconda3_420/lib/python3.5/site-packages (from ipython>=4.0.0->ipywidgets>=0.6.0->-r ../requirements.txt (line 5)) (0.8.1)\nRequirement already satisfied: prompt_toolkit<2.0.0,>=1.0.4 in /home/nbuser/anaconda3_420/lib/python3.5/site-packages (from ipython>=4.0.0->ipywidgets>=0.6.0->-r ../requirements.txt (line 5)) (1.0.15)\nRequirement already satisfied: pygments in /home/nbuser/anaconda3_420/lib/python3.5/site-packages (from ipython>=4.0.0->ipywidgets>=0.6.0->-r ../requirements.txt (line 5)) (2.1.3)\nRequirement already satisfied: pexpect in /home/nbuser/anaconda3_420/lib/python3.5/site-packages (from ipython>=4.0.0->ipywidgets>=0.6.0->-r ../requirements.txt (line 5)) (4.0.1)\n",
          "name": "stdout"
        },
        {
          "output_type": "stream",
          "text": "Collecting utm (from geoana>=0.0.4->SimPEG->-r ../requirements.txt (line 7))\n  Using cached https://files.pythonhosted.org/packages/92/d9/8bdb3d477dcaf75e1a1021772892f729a055787a08aa472582c5d35a0b36/utm-0.4.2.tar.gz\nRequirement already satisfied: numexpr>=2.5.2 in /home/nbuser/anaconda3_420/lib/python3.5/site-packages (from tables->deepdish->-r ../requirements.txt (line 10)) (2.6.2)\nRequirement already satisfied: jupyter_core in /home/nbuser/anaconda3_420/lib/python3.5/site-packages (from jupyter_client->ipykernel>=4.5.1->ipywidgets>=0.6.0->-r ../requirements.txt (line 5)) (4.4.0)\nRequirement already satisfied: pyzmq>=13 in /home/nbuser/anaconda3_420/lib/python3.5/site-packages (from jupyter_client->ipykernel>=4.5.1->ipywidgets>=0.6.0->-r ../requirements.txt (line 5)) (15.4.0)\nRequirement already satisfied: parso==0.1.* in /home/nbuser/anaconda3_420/lib/python3.5/site-packages (from jedi>=0.10->ipython>=4.0.0->ipywidgets>=0.6.0->-r ../requirements.txt (line 5)) (0.1.1)\nRequirement already satisfied: wcwidth in /home/nbuser/anaconda3_420/lib/python3.5/site-packages (from prompt_toolkit<2.0.0,>=1.0.4->ipython>=4.0.0->ipywidgets>=0.6.0->-r ../requirements.txt (line 5)) (0.1.7)\nBuilding wheels for collected packages: pymatsolver, discretize, properties, vectormath, pyMKL, utm\n  Running setup.py bdist_wheel for pymatsolver ... \u001b[?25ldone\n\u001b[?25h  Stored in directory: /home/nbuser/.cache/pip/wheels/09/66/a3/c540b8d29d1edab2bd4fabe368987aedc7fda18e742672be5b\n  Running setup.py bdist_wheel for discretize ... \u001b[?25ldone\n\u001b[?25h  Stored in directory: /home/nbuser/.cache/pip/wheels/e5/1c/93/fee8e5ce6f5db8af6d0d3ea5b11361d68fbcfac5e5c02cb4a1\n  Running setup.py bdist_wheel for properties ... \u001b[?25ldone\n\u001b[?25h  Stored in directory: /home/nbuser/.cache/pip/wheels/fe/73/b1/8f8f022858fbe7b9a1a211c7a1d1518e67a999be57875907a3\n  Running setup.py bdist_wheel for vectormath ... \u001b[?25ldone\n\u001b[?25h  Stored in directory: /home/nbuser/.cache/pip/wheels/a2/86/4d/f9890cfc126a83639eb2651f1e66f6d7f7bf0322b237f5a17b\n  Running setup.py bdist_wheel for pyMKL ... \u001b[?25ldone\n\u001b[?25h  Stored in directory: /home/nbuser/.cache/pip/wheels/d6/40/40/df64f35d394a22fbecae00749cb8e7071798a3554fac9e5abe\n  Running setup.py bdist_wheel for utm ... \u001b[?25ldone\n\u001b[?25h  Stored in directory: /home/nbuser/.cache/pip/wheels/1d/2d/5a/4c6320941f607ffefd353e1bb715e33a250a59f835cf0fbdd8\nSuccessfully built pymatsolver discretize properties vectormath pyMKL utm\nInstalling collected packages: pyMKL, pymatsolver, properties, discretize, vectormath, utm, geoana, SimPEG, empymod, deepdish, em-examples\nSuccessfully installed SimPEG-0.9.2 deepdish-0.3.6 discretize-0.3.4 em-examples-0.0.35 empymod-1.8.0 geoana-0.0.5 properties-0.5.4 pyMKL-0.0.3 pymatsolver-0.1.2 utm-0.4.2 vectormath-0.2.0\n\u001b[33mYou are using pip version 18.0, however version 18.1 is available.\nYou should consider upgrading via the 'pip install --upgrade pip' command.\u001b[0m\n",
          "name": "stdout"
        }
      ]
    },
    {
      "metadata": {
        "trusted": true
      },
      "cell_type": "code",
      "source": "%pylab inline\nfrom IPython.display import display\nfrom em_examples.HarmonicVMDCylWidget import HarmonicVMDCylWidget\nvmd = HarmonicVMDCylWidget()",
      "execution_count": null,
      "outputs": [
        {
          "output_type": "stream",
          "text": "Populating the interactive namespace from numpy and matplotlib\n",
          "name": "stdout"
        }
      ]
    },
    {
      "metadata": {
        "trusted": true
      },
      "cell_type": "code",
      "source": "from matplotlib import rcParams\nrcParams['font.size'] = 16",
      "execution_count": null,
      "outputs": []
    },
    {
      "metadata": {},
      "cell_type": "markdown",
      "source": "## 2. Horizontal Current Loop over a Layered Earth (frequency domain)"
    },
    {
      "metadata": {},
      "cell_type": "markdown",
      "source": "## Setup\n\nThe geological scenario being modeled is shown in the figure below. Here, we assume the Earth is comprised of 3 layers. Each layer can have a different electrical conductivity ($\\sigma$). However, a constant magnetic susceptibility ($\\chi$) is used for all layers; where $\\mu_0$ is the magnetic permeability of free space and $\\mu = \\mu_0 (1 +\\chi)$. The thicknesses of the top two layers are given by $h_1$ and $h_2$, respectively.\n\nFor the time domain EM experiment in this lab, a transient VMD (i.e., vertical magnetic dipole) source (*Tx*) is used to excite the Earth, and the Earth's TEM response (secondary magnetic field) is measured by a receiver (*Rx*). In practice, the transmitter and receiver may be placed near the Earth's surface or in the air. The receiver measures secondary fields at a variety of times after the source is shut off.\n\n<img src=\"https://github.com/geoscixyz/em_apps/blob/master/images/LayeredEarthTEM.png?raw=true\"></img>\n"
    },
    {
      "metadata": {},
      "cell_type": "markdown",
      "source": "## Interactive app\n\nWe use this app to simulate the fields and currents everywhere due to a harmonic VMD source. The fields and induced currents depend on the frequency of the harmonic VMD source and the subsurface conductivity distribution. You will use the app to change various parameters in the model and see how the fields and currents change.\n\n## Parameters:\n\n- **Field:** Type of EM fields (\"E\": electric field, \"B\": total magnetic flux density, \"Bsec\": secondary magnetic flux density, \"J\": current density and \"Model\": conductivity model)\n- **AmpDir:** If *None* is selected, then the *x*, *y* or *z* component chosen on the next line is plotted. If *Direction* is chosen, a vector plot is plotted (only possible for B and Bsec)\n- **Comp.:** If *None* is selected on the previous line, the user chooses whether the *x*, *y* or *z* component is plotted.     \n- **Re/Im:** Type of complex data (\"Re\", \"Im\", \"Amp\", \"Phase\")    \n- $\\boldsymbol{\\sigma_0}$: Conductivity of 0th layer in S/m\n- $\\boldsymbol{\\sigma_1}$: Conductivity of 1st layer in S/m\n- $\\boldsymbol{\\sigma_2}$: Conductivity of 2nd layer in S/m\n- $\\boldsymbol{\\sigma_3}$: Conductivity of 3rd layer in S/m\n- $\\boldsymbol{\\chi}$: Susceptibility of 1-3 layers in SI\n- $\\boldsymbol{h_1}$: Thickness of the first layer in metres\n- $\\boldsymbol{h_2}$: Thickness of the second layer in metres\n- **Scale:** Plot data values on *log-scale* or *linear-scale*\n- $\\boldsymbol{\\Delta x}$ (m): Horizontal separation distance between the transmitter and receiver\n- $\\boldsymbol{\\Delta z}$ (m): Height of the transmitter and receiver above the Earth's surface\n- **f index:** Frequency index for the set of frequencies models by this app"
    },
    {
      "metadata": {
        "trusted": false
      },
      "cell_type": "code",
      "source": "Q1 = vmd.InteractivePlane_Layer()\ndisplay(Q1)",
      "execution_count": 11,
      "outputs": [
        {
          "data": {
            "application/vnd.jupyter.widget-view+json": {
              "model_id": "6298b6bc38804ed6bb13a005203dc41b"
            }
          },
          "metadata": {},
          "output_type": "display_data"
        }
      ]
    },
    {
      "metadata": {},
      "cell_type": "markdown",
      "source": "## Tasks to be accomplished"
    },
    {
      "metadata": {},
      "cell_type": "markdown",
      "source": "<font color = red>**Task 1**</font>: Set *Field = E*, *AmpDir = None*, *Comp = y*, *Re/Im = Amp* and $\\Delta z$ = 20  to plot the magnitude of Ey (you might want to use log-scale for visulization). Are there significant electric fields in the air as well as in the Earth? What if you set *Field = J*? Explain what you have observed. <font color=red>**(10 points)**</font>"
    },
    {
      "metadata": {},
      "cell_type": "markdown",
      "source": "(answer to Task 1:) <br>\n"
    },
    {
      "metadata": {},
      "cell_type": "markdown",
      "source": "<font color = red>**Task 2**</font>: Re-run the above app to set parameters back to default. Set *Field = J*, *AmpDir = None*, *Comp = y*,*Re/Im = Amp*, $\\Delta z$ = 20, and $f$ index = 16 (i.e., $f$ = 1 kHz) to plot the magnitude of Jy. Observe the distribution of the current density. <font color=red>**(10 points)**</font>\n- Now, change the $f$ index to 28 (i.e., $f$ = 10 mHz). What happens to the spatial distribution of the current densities? Why is that? *Hint:* Think about skin depth.\n- How does the maximum value of current density change when the frequency is increased? Why is that? *Hint:* Think about Faraday's law. "
    },
    {
      "metadata": {},
      "cell_type": "markdown",
      "source": "<font color = red>**HINT:**</font> Remember that the induced current in the three-loop system is $I_2$ = - $\\frac{i\\omega M_{12}}{R+i\\omega L}I_1 e^{i\\omega t}$. (Please refer to Slide 74 of Week 5) Therefore, the magnitude of the induced current is $|I_2|$ = $\\frac{\\alpha}{\\sqrt{1+\\alpha^2}}\\frac{M_{12}}{L}I_1$, where $\\alpha = \\frac{\\omega L}{R}$ is the induction number as defined in Week 5. "
    },
    {
      "metadata": {
        "collapsed": true,
        "trusted": false
      },
      "cell_type": "code",
      "source": "(answer to Task 2:) <br>\n\n",
      "execution_count": null,
      "outputs": []
    },
    {
      "metadata": {},
      "cell_type": "markdown",
      "source": "<font color = red>**Task 3**</font>: Re-run the above app to set parameters back to default. Set *Field = J*, *AmpDir = None*, *Comp = y*,*Re/Im = Amp*, $\\sigma_1$ = $\\sigma_2$ = $\\sigma_3$ = 0.01 $S/m$, $\\Delta z$ = 20, and $f$ index = 16 (i.e., $f$ = 1 kHz) to plot the magnitude of Jy. Observe the distribution of the current density. Now, change $\\sigma_1$ = $\\sigma_2$ = $\\sigma_3$ = 0.001 $S/m$. How does the maximum value of current density change when the resistivity is increased? Why is that?  <font color=red>**(10 points)**</font>\n<br>\n<font color = red>**HINT:**</font>: There are two ways to understand the change. One is to think about Ohm's law. The other is to remember that the induced current in the three-loop system is $I_2$ = - $\\frac{i\\omega M_{12}}{R+i\\omega L}I_1 e^{i\\omega t}$. (Please refer to Slide 74 of Week 5) Therefore, the magnitude of the induced current is $|I_2|$ = $\\frac{\\alpha}{\\sqrt{1+\\alpha^2}}\\frac{M_{12}}{L}I_1$, where $\\alpha = \\frac{\\omega L}{R}$ is the induction number as defined in Week 5. "
    },
    {
      "metadata": {
        "collapsed": true,
        "trusted": false
      },
      "cell_type": "markdown",
      "source": "(answer to Task 3:) <br>\n\n"
    },
    {
      "metadata": {},
      "cell_type": "markdown",
      "source": "<font color = red>**Task 4**</font>: Re-run the above app to set parameters back to default. Set *Field = J*, *AmpDir = None*, *Comp = y*, $\\sigma_1$ = $\\sigma_2$ = $\\sigma_3$ = 0.01 $S/m$, $\\Delta z$ = 20, and $f$ index = 16 (i.e., $f$ = 1 kHz). Now, change the *Re/Im* parameter from *Re* to *Im*. (For this task, the linear scale visualization would be fine.) Report the maximum value for the real component of Jy, and the imaginary component of Jy. <font color=red>**(20 points)**</font>\n- Why is the real component so much smaller than the imaginary component? \n- What should I do to make real component comparable to the imaginary component? \n- Find the value of the frequency at which the real component is (roughly) equal to the imaginary component?\n- Now set $f$ index = 16 (i.e., $f$ = 1,000 Hz), adjust the value of the conductivity of the three layers (while keeping $\\sigma_1$ = $\\sigma_2$ = $\\sigma_3$). What is the value of the conductivity for which the real component is equal to the imaginary component?"
    },
    {
      "metadata": {},
      "cell_type": "markdown",
      "source": "<font color = red>**HINT:**</font>: Think about the response function discussed in Week 5. Please refer to Slides 81-85 if you need to refresh your memory about the response function."
    },
    {
      "metadata": {
        "collapsed": true,
        "trusted": false
      },
      "cell_type": "code",
      "source": "(answer to Task 4:) <br>\n",
      "execution_count": null,
      "outputs": []
    },
    {
      "metadata": {},
      "cell_type": "markdown",
      "source": "<font color = red>**Task 5**</font>: Re-run the above app to set parameters back to default. Set *Field = J*, *AmpDir = None*, *Comp = y*, *Re/Im = Im*, $\\sigma_1$ = $\\sigma_2$ = $\\sigma_3$ = 0.01 $S/m$, $h_1$ = $h_2$ = 20 m, $\\Delta z$ = 20, and $f$ index = 19 (i.e., $f$ = 10 kHz).  <font color=red>**(10 points)**</font>\n- Now, change $\\sigma_2$ to 0.1 $S/m$. What happens to the spatial distribution of current density? How does the maximum current density value change?\n- Increase $\\sigma_2$ to 1 $S/m$. What happens to the spatial distribution of current density? How does the maximum current density value change?\n- Explain what you have observed above when the second layer becomes more and more conductive?"
    },
    {
      "metadata": {
        "collapsed": true,
        "trusted": false
      },
      "cell_type": "code",
      "source": "(answer to Task 5:) <br>\n",
      "execution_count": null,
      "outputs": []
    },
    {
      "metadata": {},
      "cell_type": "markdown",
      "source": "<font color = red>**Task 6**</font>: Re-run the above app to set parameters back to default. Set *Field = J*, *AmpDir = None*, *Comp = y*, *Re/Im = Im*, $\\sigma_1$ = $\\sigma_2$ = $\\sigma_3$ = 0.01 $S/m$, $h_1$ = $h_2$ = 20 m, $\\Delta z$ = 20, and $f$ index = 19 (i.e., $f$ = 10 kHz).  <font color=red>**(10 points)**</font>\n- Now, decrease $\\sigma_2$ to 0.001 $S/m$. Do you see any obvious change in the spatial distibution of current density? How about the maximum current density value?\n- Keep decreasing $\\sigma_2$ to 0.0001 $S/m$, and 0.00001 $S/m$. Do you see any obvious change in the spatial distibution of current density? How about the maximum current density value?\n- What does the above experiment tell you? *Hint:* Is our EM survey sensitive to a resistor?"
    },
    {
      "metadata": {
        "collapsed": true,
        "trusted": false
      },
      "cell_type": "code",
      "source": "(answer to Task 6:) <br>\n",
      "execution_count": null,
      "outputs": []
    },
    {
      "metadata": {},
      "cell_type": "markdown",
      "source": "## 3. Horizontal Current Loop over a Sphere (frequency domain)"
    },
    {
      "metadata": {},
      "cell_type": "markdown",
      "source": "## Setup\n\nThe geological scenario being modeled is shown in the figure below. Here, the Earth is comprised of a sphere and a near-surface overburden layer within a homogeneous background. The depth to the layer is given by $d_1$ and $h$.\n\n<img src=\"https://github.com/geoscixyz/em_apps/blob/master/images/LayerSphereFEM.png?raw=true\"></img>"
    },
    {
      "metadata": {},
      "cell_type": "markdown",
      "source": "## Interactive app\n\nWe use this app to simulate the fields and currents everywhere due to a harmonic VMD source. The fields and induced currents depend on the frequency of the harmonic VMD source and the subsurface conductivity distribution. You will use the app to change various parameters in the model and see how the fields and currents change.\n\n## Parameters:\n\n- **Field:** Type of EM fields (\"E\": electric field, \"B\": total magnetic flux density, \"Bsec\": secondary magnetic flux density, \"J\": current density and \"Model\": conductivity model)\n- **AmpDir:** If *None* is selected, then the *x*, *y* or *z* component chosen on the next line is plotted. If *Direction* is chosen, a vector plot is plotted (only possible for B and Bsec)\n- **Comp.:** If *None* is selected on the previous line, the user chooses whether the *x*, *y* or *z* component is plotted.     \n- **Re/Im:** Type of complex data (\"Re\", \"Im\", \"Amp\", \"Phase\") \n- $\\boldsymbol{\\sigma_0}$: Conductivity above z=0m (leave as 1e-8) in S/m\n- $\\boldsymbol{\\sigma_b}$: Background conductivity below z = 0 m in S/m\n- $\\boldsymbol{\\sigma_1}$: Conductivity of the layer in S/m\n- $\\boldsymbol{\\sigma_2}$: Conductivity of the sphere in S/m\n- $\\boldsymbol{\\chi}$: Susceptibility below z = 0 m in SI\n- $\\boldsymbol{d_1}$: Depth to the top of the layer\n- $\\boldsymbol{h_1}$: Thickness of the layer\n- $\\boldsymbol{d_2}$: Depth to the centre of the sphere\n- $\\boldsymbol{R}$: Radius of the sphere\n- **Scale:** Plot data values on *log-scale* or *linear-scale*\n- $\\boldsymbol{\\Delta x}$ (m): Horizontal separation distance between the transmitter and receiver\n- $\\boldsymbol{\\Delta z}$ (m): Height of the transmitter and receiver above the Earth's surface\n- **f index:** Frequency index for the set of frequencies models by this app"
    },
    {
      "metadata": {
        "trusted": false
      },
      "cell_type": "code",
      "source": "Q1 = vmd.InteractivePlane_Sphere()\ndisplay(Q1)",
      "execution_count": 19,
      "outputs": [
        {
          "data": {
            "application/vnd.jupyter.widget-view+json": {
              "model_id": "c8b1629032214882bf6177911b3bf095"
            }
          },
          "metadata": {},
          "output_type": "display_data"
        }
      ]
    },
    {
      "metadata": {},
      "cell_type": "markdown",
      "source": "## Tasks to be accomplished"
    },
    {
      "metadata": {},
      "cell_type": "markdown",
      "source": "<font color = red>**Task 7**</font>: Set *Field = J*, *AmpDir = None*, *Comp = y*, *Re/Im = Im*, $\\sigma_b$ = $\\sigma_1$ =  0.002 $S/m$, $\\sigma_2$ = 1 $S/m$, $d_1$ = 10 m, $h$ = 10 m, $d_2$ = 50 m, $R$ = 20 m, $\\Delta z$ = 20, and $f$ index = 16. <font color=red>**(10 points)**</font>\n- Summarize the distribution of the current density. \n- Now, set $\\sigma_1$ = $10^{-6}$ $S/m$. How does the current density distibution change when there is a near-surface resistive layer above the conductive sphere?\n- Based on the above experiment, would near-surface resistors be a problem when our target is a deep conductor?"
    },
    {
      "metadata": {
        "collapsed": true,
        "trusted": false
      },
      "cell_type": "code",
      "source": "(answer to Task 7:)\n",
      "execution_count": null,
      "outputs": []
    },
    {
      "metadata": {},
      "cell_type": "markdown",
      "source": "<font color = red>**Task 8**</font>: Set *Field = J*, *AmpDir = None*, *Comp = y*, *Re/Im = Im*, $\\sigma_b$ = $\\sigma_1$ =  0.002 $S/m$, $\\sigma_2$ = 1 $S/m$, $d_1$ = 10 m, $h$ = 10 m, $d_2$ = 50 m, $R$ = 20 m, $\\Delta z$ = 20, and $f$ index = 16. <font color=red>**(10 points)**</font>\n- Now, set $\\sigma_1$ = $1$ $S/m$. How does the current density distibution change when there is a near-surface conductive layer located above the conductive sphere?\n- Set $\\sigma_2$ = 0.002 $S/m$. How does the current density change?\n- Based on the above experiment, would a near-surface conductive layer be a problem when our target is a deep conductor?"
    },
    {
      "metadata": {
        "collapsed": true,
        "trusted": false
      },
      "cell_type": "code",
      "source": "(answer to Task 8:)\n",
      "execution_count": null,
      "outputs": []
    },
    {
      "metadata": {},
      "cell_type": "markdown",
      "source": "<font color = red>**Task 9**</font>: Set *Field = J*, *AmpDir = None*, *Comp = y*, *Re/Im = Im*, $\\sigma_b$ = $\\sigma_1$ =  0.002 $S/m$, $\\sigma_2$ = 1 $S/m$, $d_1$ = 10 m, $h$ = 10 m, $d_2$ = 50 m, $R$ = 20 m, $\\Delta z$ = 20, and $f$ index = 1. <font color=red>**(10 points)**</font>\n- Keep increasing *f index*. The currents become only visible on the edges of the conductor when $f$ index is around 20. Why is this? *Hint: consider skin depth inside the conductor, i.e., $\\delta = 503 \\sqrt{\\frac{\\rho}{f}}$, where $f$ is the frequency*.\n- Now increase the $f$ index to 22. How does the current density distibution change?\n- Keep increase the $f$ index to 28. where is the largest concentration of currents? Explain why. *Hint:* Think about skin depth $\\delta = 503 \\sqrt{\\frac{\\rho}{f}}$, where $f$ is the frequency.\n- Based on the above experiment, what suggesions would you give to a company that looks for a deep gold deposit (which is conductive)?"
    },
    {
      "metadata": {
        "trusted": true
      },
      "cell_type": "code",
      "source": "(answer to Task 9:)\n",
      "execution_count": null,
      "outputs": []
    },
    {
      "metadata": {
        "collapsed": true
      },
      "cell_type": "markdown",
      "source": "## Acknowledgments\nThe apps that were used in this lab were developed by the [SimPEG](http://www.simpeg.xyz/) team. Most members are graduate students from [UBC-GIF](https://gif.eos.ubc.ca/about). I would like all SimPEG team members for their hard and awesome work!\n\n<img src = \"simpegteam.PNG\">"
    }
  ],
  "metadata": {
    "anaconda-cloud": {},
    "kernelspec": {
      "name": "python3",
      "display_name": "Python 3",
      "language": "python"
    },
    "language_info": {
      "mimetype": "text/x-python",
      "nbconvert_exporter": "python",
      "name": "python",
      "pygments_lexer": "ipython3",
      "version": "3.5.4",
      "file_extension": ".py",
      "codemirror_mode": {
        "version": 3,
        "name": "ipython"
      }
    },
    "widgets": {
      "state": {
        "c0dd4dbce2ff4d0cacf7363e6fdfed13": {
          "views": [
            {
              "cell_index": 6
            }
          ]
        },
        "d6ee822b25404d33979ba6ec5f19963c": {
          "views": [
            {
              "cell_index": 8
            }
          ]
        }
      },
      "version": "1.2.0"
    }
  },
  "nbformat": 4,
  "nbformat_minor": 1
}