{
  "cells": [
    {
      "metadata": {
        "trusted": true
      },
      "cell_type": "code",
      "source": "!pip install -r ../requirements.txt",
      "execution_count": 1,
      "outputs": [
        {
          "output_type": "stream",
          "text": "Requirement already satisfied: numpy in /home/nbuser/anaconda3_420/lib/python3.5/site-packages (from -r ../requirements.txt (line 1)) (1.17.3)\nRequirement already satisfied: scipy in /home/nbuser/anaconda3_420/lib/python3.5/site-packages (from -r ../requirements.txt (line 2)) (1.1.0)\nRequirement already satisfied: matplotlib in /home/nbuser/anaconda3_420/lib/python3.5/site-packages (from -r ../requirements.txt (line 3)) (2.1.1)\nRequirement already satisfied: Pillow in /home/nbuser/anaconda3_420/lib/python3.5/site-packages (from -r ../requirements.txt (line 4)) (4.3.0)\nRequirement already satisfied: ipywidgets>=0.6.0 in /home/nbuser/anaconda3_420/lib/python3.5/site-packages (from -r ../requirements.txt (line 5)) (7.5.1)\nRequirement already satisfied: requests in /home/nbuser/anaconda3_420/lib/python3.5/site-packages (from -r ../requirements.txt (line 6)) (2.14.2)\nCollecting SimPEG\n  Using cached https://files.pythonhosted.org/packages/c4/05/6480fd00c7e6809f855134f9a47dd0cc61a2ed5538c367372290cdc6dcaf/SimPEG-0.12.0.tar.gz\nCollecting em_examples\n  Using cached https://files.pythonhosted.org/packages/e8/39/1a285f68abfdbacc00deefbcd7d2053b6dd67d9ab384a4cbc70a523ae84c/em_examples-0.0.35-py3-none-any.whl\nCollecting empymod\n  Using cached https://files.pythonhosted.org/packages/ad/01/b257911dbc987a440be8972384798a368b41be870526959eebc48142f49c/empymod-1.10.3-py3-none-any.whl\nCollecting deepdish\n  Using cached https://files.pythonhosted.org/packages/6e/39/2a47c852651982bc5eb39212ac110284dd20126bdc7b49bde401a0139f5d/deepdish-0.3.6-py2.py3-none-any.whl\nCollecting pymatsolver>=0.1.2\n  Using cached https://files.pythonhosted.org/packages/0f/5e/30e92dfe738cc3e28f52344484aa2c6e44872787b2edd789df0eaae04e3b/pymatsolver-0.1.2.tar.gz\nRequirement already satisfied: six>=1.10 in /home/nbuser/anaconda3_420/lib/python3.5/site-packages (from matplotlib->-r ../requirements.txt (line 3)) (1.11.0)\nRequirement already satisfied: python-dateutil>=2.0 in /home/nbuser/anaconda3_420/lib/python3.5/site-packages (from matplotlib->-r ../requirements.txt (line 3)) (2.8.1)\nRequirement already satisfied: pytz in /home/nbuser/anaconda3_420/lib/python3.5/site-packages (from matplotlib->-r ../requirements.txt (line 3)) (2016.6.1)\nRequirement already satisfied: cycler>=0.10 in /home/nbuser/anaconda3_420/lib/python3.5/site-packages (from matplotlib->-r ../requirements.txt (line 3)) (0.10.0)\nRequirement already satisfied: pyparsing!=2.0.4,!=2.1.2,!=2.1.6,>=2.0.1 in /home/nbuser/anaconda3_420/lib/python3.5/site-packages (from matplotlib->-r ../requirements.txt (line 3)) (2.1.4)\nRequirement already satisfied: olefile in /home/nbuser/anaconda3_420/lib/python3.5/site-packages (from Pillow->-r ../requirements.txt (line 4)) (0.44)\nRequirement already satisfied: nbformat>=4.2.0 in /home/nbuser/anaconda3_420/lib/python3.5/site-packages (from ipywidgets>=0.6.0->-r ../requirements.txt (line 5)) (4.2.0)\nRequirement already satisfied: ipykernel>=4.5.1 in /home/nbuser/anaconda3_420/lib/python3.5/site-packages (from ipywidgets>=0.6.0->-r ../requirements.txt (line 5)) (4.7.0)\nRequirement already satisfied: traitlets>=4.3.1 in /home/nbuser/anaconda3_420/lib/python3.5/site-packages (from ipywidgets>=0.6.0->-r ../requirements.txt (line 5)) (4.3.1)\nRequirement already satisfied: ipython>=4.0.0; python_version >= \"3.3\" in /home/nbuser/anaconda3_420/lib/python3.5/site-packages (from ipywidgets>=0.6.0->-r ../requirements.txt (line 5)) (6.2.1)\nRequirement already satisfied: widgetsnbextension~=3.5.0 in /home/nbuser/anaconda3_420/lib/python3.5/site-packages (from ipywidgets>=0.6.0->-r ../requirements.txt (line 5)) (3.5.1)\nRequirement already satisfied: cython in /home/nbuser/anaconda3_420/lib/python3.5/site-packages (from SimPEG->-r ../requirements.txt (line 7)) (0.24.1)\nCollecting properties>=0.5.2\n  Using cached https://files.pythonhosted.org/packages/c0/9a/cd2def3421cd077d80d4973c802d29dcb3fba625190b3678480f228a85bf/properties-0.6.1.tar.gz\nCollecting vectormath>=0.2.0\n  Using cached https://files.pythonhosted.org/packages/be/d3/5d49b6e961d87ba4845205509fbd0f2fa39875859ccb5e4778035518b89f/vectormath-0.2.2.tar.gz\nCollecting discretize>=0.4.0\n  Using cached https://files.pythonhosted.org/packages/b1/41/4766aa8a1f6db9357f6941e6ffb1e6b572b9cfe9467d2d81d7dd431f20cd/discretize-0.4.10.tar.gz\nCollecting geoana>=0.0.4\n  Using cached https://files.pythonhosted.org/packages/60/34/5715c1b3e35b4b7e0fdef463405c9ae5b073563f48118f2a54165be78cdc/geoana-0.0.5-py2.py3-none-any.whl\nRequirement already satisfied: jupyter in /home/nbuser/anaconda3_420/lib/python3.5/site-packages (from em_examples->-r ../requirements.txt (line 8)) (1.0.0)\nRequirement already satisfied: future in /home/nbuser/anaconda3_420/lib/python3.5/site-packages (from em_examples->-r ../requirements.txt (line 8)) (0.18.2)\nRequirement already satisfied: tables in /home/nbuser/anaconda3_420/lib/python3.5/site-packages (from deepdish->-r ../requirements.txt (line 10)) (3.4.2)\nCollecting pyMKL>=0.0.3\n  Using cached https://files.pythonhosted.org/packages/43/9d/0657fdb64d31a83c5caab80a70e55dac7658ba3fac7d1f43cbcca726b286/pyMKL-0.0.3.tar.gz\nRequirement already satisfied: jupyter_client in /home/nbuser/anaconda3_420/lib/python3.5/site-packages (from ipykernel>=4.5.1->ipywidgets>=0.6.0->-r ../requirements.txt (line 5)) (5.1.0)\nRequirement already satisfied: tornado>=4.0 in /home/nbuser/anaconda3_420/lib/python3.5/site-packages (from ipykernel>=4.5.1->ipywidgets>=0.6.0->-r ../requirements.txt (line 5)) (4.4.1)\nRequirement already satisfied: setuptools>=18.5 in /home/nbuser/anaconda3_420/lib/python3.5/site-packages (from ipython>=4.0.0; python_version >= \"3.3\"->ipywidgets>=0.6.0->-r ../requirements.txt (line 5)) (41.6.0)\nRequirement already satisfied: jedi>=0.10 in /home/nbuser/anaconda3_420/lib/python3.5/site-packages (from ipython>=4.0.0; python_version >= \"3.3\"->ipywidgets>=0.6.0->-r ../requirements.txt (line 5)) (0.11.0)\nRequirement already satisfied: decorator in /home/nbuser/anaconda3_420/lib/python3.5/site-packages (from ipython>=4.0.0; python_version >= \"3.3\"->ipywidgets>=0.6.0->-r ../requirements.txt (line 5)) (4.4.1)\nRequirement already satisfied: pickleshare in /home/nbuser/anaconda3_420/lib/python3.5/site-packages (from ipython>=4.0.0; python_version >= \"3.3\"->ipywidgets>=0.6.0->-r ../requirements.txt (line 5)) (0.7.4)\nRequirement already satisfied: simplegeneric>0.8 in /home/nbuser/anaconda3_420/lib/python3.5/site-packages (from ipython>=4.0.0; python_version >= \"3.3\"->ipywidgets>=0.6.0->-r ../requirements.txt (line 5)) (0.8.1)\nRequirement already satisfied: prompt_toolkit<2.0.0,>=1.0.4 in /home/nbuser/anaconda3_420/lib/python3.5/site-packages (from ipython>=4.0.0; python_version >= \"3.3\"->ipywidgets>=0.6.0->-r ../requirements.txt (line 5)) (1.0.15)\nRequirement already satisfied: pygments in /home/nbuser/anaconda3_420/lib/python3.5/site-packages (from ipython>=4.0.0; python_version >= \"3.3\"->ipywidgets>=0.6.0->-r ../requirements.txt (line 5)) (2.1.3)\nRequirement already satisfied: pexpect in /home/nbuser/anaconda3_420/lib/python3.5/site-packages (from ipython>=4.0.0; python_version >= \"3.3\"->ipywidgets>=0.6.0->-r ../requirements.txt (line 5)) (4.0.1)\nRequirement already satisfied: notebook>=4.4.1 in /home/nbuser/anaconda3_420/lib/python3.5/site-packages (from widgetsnbextension~=3.5.0->ipywidgets>=0.6.0->-r ../requirements.txt (line 5)) (5.0.0)\nCollecting utm\n  Using cached https://files.pythonhosted.org/packages/b6/77/180f06153f2c1a8caf8409ff6365abc9423ec4ebc3991dfe4a3228bc09d4/utm-0.5.0.tar.gz\nRequirement already satisfied: numexpr>=2.5.2 in /home/nbuser/anaconda3_420/lib/python3.5/site-packages (from tables->deepdish->-r ../requirements.txt (line 10)) (2.6.2)\nRequirement already satisfied: jupyter_core in /home/nbuser/anaconda3_420/lib/python3.5/site-packages (from jupyter_client->ipykernel>=4.5.1->ipywidgets>=0.6.0->-r ../requirements.txt (line 5)) (4.4.0)\nRequirement already satisfied: pyzmq>=13 in /home/nbuser/anaconda3_420/lib/python3.5/site-packages (from jupyter_client->ipykernel>=4.5.1->ipywidgets>=0.6.0->-r ../requirements.txt (line 5)) (15.4.0)\nRequirement already satisfied: parso==0.1.* in /home/nbuser/anaconda3_420/lib/python3.5/site-packages (from jedi>=0.10->ipython>=4.0.0; python_version >= \"3.3\"->ipywidgets>=0.6.0->-r ../requirements.txt (line 5)) (0.1.1)\nRequirement already satisfied: wcwidth in /home/nbuser/anaconda3_420/lib/python3.5/site-packages (from prompt_toolkit<2.0.0,>=1.0.4->ipython>=4.0.0; python_version >= \"3.3\"->ipywidgets>=0.6.0->-r ../requirements.txt (line 5)) (0.1.7)\nBuilding wheels for collected packages: SimPEG, pymatsolver, properties, vectormath, discretize, pyMKL, utm\n",
          "name": "stdout"
        },
        {
          "output_type": "stream",
          "text": "  Building wheel for SimPEG (setup.py) ... \u001b[?25ldone\n\u001b[?25h  Created wheel for SimPEG: filename=SimPEG-0.12.0-cp35-none-any.whl size=300157 sha256=adb0928480fe89c9518b13f9aaa2ac9a4dd09653d644472f622a0019459e2eaf\n  Stored in directory: /home/nbuser/.cache/pip/wheels/2e/5a/e9/91fe65f3693bf49496c16b290be247c1ce2a83cbc0ecd6de89\n  Building wheel for pymatsolver (setup.py) ... \u001b[?25ldone\n\u001b[?25h  Created wheel for pymatsolver: filename=pymatsolver-0.1.2-cp35-none-any.whl size=18199 sha256=e44bb10dc84d7c26fe2a0011608e919096c64542a503f66fc95cf3588fd2df5f\n  Stored in directory: /home/nbuser/.cache/pip/wheels/09/66/a3/c540b8d29d1edab2bd4fabe368987aedc7fda18e742672be5b\n  Building wheel for properties (setup.py) ... \u001b[?25ldone\n\u001b[?25h  Created wheel for properties: filename=properties-0.6.1-cp35-none-any.whl size=62368 sha256=e5ebe9c31f65485309599cf9e99097b024172e61f57597089373ac4e8d7cf007\n  Stored in directory: /home/nbuser/.cache/pip/wheels/9d/d9/66/f1f984e6dbe9ca4fb0c51617e526a73945f90936d4ae040fc2\n  Building wheel for vectormath (setup.py) ... \u001b[?25ldone\n\u001b[?25h  Created wheel for vectormath: filename=vectormath-0.2.2-cp35-none-any.whl size=9353 sha256=958cd9694614fe2b3a3b45b17b2646e7bd44c89aa9a43e68771333fafb5c662c\n  Stored in directory: /home/nbuser/.cache/pip/wheels/82/45/db/21f8afb4447691ddc30be13170201154af9647c9653aa899b1\n  Building wheel for discretize (setup.py) ... \u001b[?25ldone\n\u001b[?25h  Created wheel for discretize: filename=discretize-0.4.10-cp35-cp35m-linux_x86_64.whl size=2238852 sha256=091ee37106e078c5bdda54129b173201c657e89db866792f023a1d417459d8a1\n  Stored in directory: /home/nbuser/.cache/pip/wheels/2f/64/bb/e65ceff1490fddea5cd123ba500360f0d400938fb0ce68872b\n  Building wheel for pyMKL (setup.py) ... \u001b[?25ldone\n\u001b[?25h  Created wheel for pyMKL: filename=pyMKL-0.0.3-cp35-none-any.whl size=7069 sha256=0f45359485d13d5483dbde995cb1e52bbe5b8f96b9d4eec1c060aaa17f4edcac\n  Stored in directory: /home/nbuser/.cache/pip/wheels/d6/40/40/df64f35d394a22fbecae00749cb8e7071798a3554fac9e5abe\n  Building wheel for utm (setup.py) ... \u001b[?25ldone\n\u001b[?25h  Created wheel for utm: filename=utm-0.5.0-cp35-none-any.whl size=5944 sha256=d2cf95deae8cbdc20dc3ff3955d52a622159852735f2a23f25f22115f989474b\n  Stored in directory: /home/nbuser/.cache/pip/wheels/22/85/c2/314ffed39b8e02ca623e9b7d2ad7fcf3f8544a0e77c096be76\nSuccessfully built SimPEG pymatsolver properties vectormath discretize pyMKL utm\nInstalling collected packages: pyMKL, pymatsolver, properties, vectormath, discretize, utm, geoana, SimPEG, empymod, deepdish, em-examples\nSuccessfully installed SimPEG-0.12.0 deepdish-0.3.6 discretize-0.4.10 em-examples-0.0.35 empymod-1.10.3 geoana-0.0.5 properties-0.6.1 pyMKL-0.0.3 pymatsolver-0.1.2 utm-0.5.0 vectormath-0.2.2\n",
          "name": "stdout"
        }
      ]
    },
    {
      "metadata": {
        "trusted": true
      },
      "cell_type": "code",
      "source": "from em_examples import DCLayers\nfrom IPython.display import display\n%matplotlib inline",
      "execution_count": 2,
      "outputs": []
    },
    {
      "metadata": {
        "trusted": true
      },
      "cell_type": "code",
      "source": "from matplotlib import rcParams\nrcParams['font.size'] = 14",
      "execution_count": 3,
      "outputs": []
    },
    {
      "metadata": {},
      "cell_type": "markdown",
      "source": "# Purpose\n\n## Investigating DC Resistivity Data \n\nUsing the widgets contained in this notebook we will explore the physical principals governing DC resistivity including the behavior of currents, electric field, electric potentials in a two layer earth. \n\nThe measured data in a DC experiment are potential differences, we will demonstrate how these  provide information about subsurface physical properties. "
    },
    {
      "metadata": {},
      "cell_type": "markdown",
      "source": "### Background: Computing Apparent Resistivity\n\nIn practice we cannot measure the potentials everywhere, we are limited to those locations where we place electrodes. For each source (current electrode pair) many potential differences are measured between M and N electrode pairs to characterize the overall distribution of potentials. The widget below allows you to visualize the potentials, electric fields, and current densities from a dipole source in a simple model with 2 layers. For different electrode configurations you can measure the potential differences and see the calculated apparent resistivities. \n\nIn a uniform halfspace the potential differences can be computed by summing up the potentials at each measurement point from the different current sources based on the following equations:\n\n\\begin{align}\n    V_M = \\frac{\\rho I}{2 \\pi} \\left[ \\frac{1}{AM} - \\frac{1}{MB} \\right] \\\\\n    V_N = \\frac{\\rho I}{2 \\pi} \\left[ \\frac{1}{AN} - \\frac{1}{NB} \\right] \n\\end{align} \nwhere $AM$, $MB$, $AN$, and $NB$ are the distances between the corresponding electrodes. \n\nThe potential difference $\\Delta V_{MN}$ in a dipole-dipole survey can therefore be expressed as follows,\n\n\\begin{equation}\n    \\Delta V_{MN} = V_M - V_N = \\rho I \\underbrace{\\frac{1}{2 \\pi} \\left[ \\frac{1}{AM} - \\frac{1}{MB} - \\frac{1}{AN} + \\frac{1}{NB} \\right]}_{G}\n\\end{equation}\n\nand the resistivity of the halfspace $\\rho$ is equal to,\n\n$$\n    \\rho = \\frac{\\Delta V_{MN}}{IG}\n$$\n\nIn this equation $G$ is often referred to as the geometric factor. \n\nIn the case where we are not in a uniform halfspace the above equation is used to compute the apparent resistivity ($\\rho_a$) which is the resistivity of the uniform halfspace which best reproduces the measured potential difference.\n\nIn the top plot the location of the A electrode is marked by the red +, the B electrode is marked by the blue -, and the M/N potential electrodes are marked by the black dots. The $V_M$ and $V_N$ potentials are printed just above and to the right of the black dots. The calculted apparent resistivity is shown in the grey box to the right. The bottom plot can show the resistivity model, the electric fields (e), potentials, or current densities (j) depending on which toggle button is selected. Some patience may be required for the plots to update after parameters have been changed."
    },
    {
      "metadata": {},
      "cell_type": "markdown",
      "source": "# LayeredEarth app\n\n## Parameters:\n\n - **A**: (+) Current electrode  location\n - **B**: (-) Current electrode  location\n - **M**: (+) Potential electrode  location\n - **N**: (-) Potential electrode  location\n - **$\\rho_1$**: Resistivity of the first layer\n - **$\\rho_2$**: Resistivity of the second layer\n - **h**: Thickness of the first layer\n - **Plot**: Choice of 2D plot (Model, Potential, Electric field, Currents)\n"
    },
    {
      "metadata": {
        "scrolled": true,
        "trusted": false
      },
      "cell_type": "code",
      "source": "out = DCLayers.plot_layer_potentials_app()\ndisplay(out)",
      "execution_count": 5,
      "outputs": [
        {
          "data": {
            "application/vnd.jupyter.widget-view+json": {
              "model_id": "30b2d732295a47709c9a97f67c2b544a",
              "version_major": 2,
              "version_minor": 0
            },
            "text/plain": "MyApp(children=(FloatSlider(value=-30.0, continuous_update=False, description='A', max=30.0, min=-30.0, step=1…"
          },
          "metadata": {},
          "output_type": "display_data"
        }
      ]
    },
    {
      "metadata": {
        "trusted": false
      },
      "cell_type": "code",
      "source": "",
      "execution_count": null,
      "outputs": []
    }
  ],
  "metadata": {
    "anaconda-cloud": {},
    "kernelspec": {
      "name": "python3",
      "display_name": "Python 3",
      "language": "python"
    },
    "language_info": {
      "mimetype": "text/x-python",
      "nbconvert_exporter": "python",
      "name": "python",
      "pygments_lexer": "ipython3",
      "version": "3.5.4",
      "file_extension": ".py",
      "codemirror_mode": {
        "version": 3,
        "name": "ipython"
      }
    },
    "widgets": {
      "state": {
        "d1e777f115314ea497dca383d1bc4d52": {
          "views": [
            {
              "cell_index": 4
            }
          ]
        }
      },
      "version": "1.2.0"
    }
  },
  "nbformat": 4,
  "nbformat_minor": 1
}