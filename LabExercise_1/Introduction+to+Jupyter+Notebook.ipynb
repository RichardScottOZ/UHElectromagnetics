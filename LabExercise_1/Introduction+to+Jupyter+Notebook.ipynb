{
 "cells": [
  {
   "cell_type": "markdown",
   "metadata": {},
   "source": [
    "# Section 1: Code cells"
   ]
  },
  {
   "cell_type": "code",
   "execution_count": 1,
   "metadata": {},
   "outputs": [
    {
     "name": "stdout",
     "output_type": "stream",
     "text": [
      "enter your name: Jiajia Sun\n",
      "Hello, Jiajia Sun ! Welcome to Jupyter Notebook!\n"
     ]
    }
   ],
   "source": [
    "name = input('enter your name: ')\n",
    "print('Hello,',name,'! Welcome to Jupyter Notebook!')"
   ]
  },
  {
   "cell_type": "code",
   "execution_count": 2,
   "metadata": {},
   "outputs": [
    {
     "name": "stdout",
     "output_type": "stream",
     "text": [
      "Item 1 is: banana\n",
      "Item 2 is: orange\n",
      "Item 3 is: apple\n"
     ]
    }
   ],
   "source": [
    "b = ['banana','orange','apple']\n",
    "for ind, items in enumerate(b):\n",
    "    print('Item ' + str(ind+1) + ' is: ' + items)    "
   ]
  },
  {
   "cell_type": "markdown",
   "metadata": {},
   "source": [
    "# Section 2: Markdown cells"
   ]
  },
  {
   "cell_type": "markdown",
   "metadata": {},
   "source": [
    "This is my first *Python* **Jupyter Notebook**."
   ]
  },
  {
   "cell_type": "markdown",
   "metadata": {},
   "source": [
    "This is an inline equation $a^2 + b^2 = c^2$. <br>\n",
    "And this is a displayed equation $$a^2 + b^2 = c^2$$"
   ]
  },
  {
   "cell_type": "markdown",
   "metadata": {},
   "source": [
    "# Section 3: Different levels of headings \n",
    "This is section 3. This section contains a few subsections.\n",
    "## Section 3.1\n",
    "This is my section 3.1.\n",
    "## Section 3.2\n",
    "This is my section 3.2.\n",
    "## Section 3.3\n",
    "This is my section 3.3. It contains a few subsubsections.\n",
    "### Section 3.3.1\n",
    "This is my section 3.3.1.\n",
    "### Section 3.3.2\n",
    "This is my sectioin 3.3.2.\n",
    "#### Section 3.3.2.1\n",
    "This is my section 3.3.2.1. And this will be the last level of my headings.\n",
    "#### Section 3.3.2.2\n",
    "And finally, my section 3.3.2.2"
   ]
  },
  {
   "cell_type": "markdown",
   "metadata": {},
   "source": [
    "# Section 4: Raw cells"
   ]
  },
  {
   "cell_type": "raw",
   "metadata": {},
   "source": [
    "hello, this is a raw cell"
   ]
  },
  {
   "cell_type": "markdown",
   "metadata": {
    "collapsed": true
   },
   "source": [
    "# Section 5: Conclusions\n",
    "**Jupyter Notebook** is awesome!"
   ]
  }
 ],
 "metadata": {
  "kernelspec": {
   "display_name": "Python 3.6",
   "language": "python",
   "name": "python36"
  },
  "language_info": {
   "codemirror_mode": {
    "name": "ipython",
    "version": 3
   },
   "file_extension": ".py",
   "mimetype": "text/x-python",
   "name": "python",
   "nbconvert_exporter": "python",
   "pygments_lexer": "ipython3",
   "version": "3.6.3"
  }
 },
 "nbformat": 4,
 "nbformat_minor": 2
}
