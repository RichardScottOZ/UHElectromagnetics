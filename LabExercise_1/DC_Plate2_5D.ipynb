{
  "cells": [
    {
      "metadata": {
        "trusted": false
      },
      "cell_type": "code",
      "source": "!pip install -r ../requirements.txt",
      "execution_count": 1,
      "outputs": [
        {
          "name": "stdout",
          "output_type": "stream",
          "text": "Requirement already satisfied: numpy in /home/nbuser/anaconda3_420/lib/python3.5/site-packages (from -r ../requirements.txt (line 1)) (1.15.0)\nRequirement already satisfied: scipy in /home/nbuser/anaconda3_420/lib/python3.5/site-packages (from -r ../requirements.txt (line 2)) (1.1.0)\nRequirement already satisfied: matplotlib in /home/nbuser/anaconda3_420/lib/python3.5/site-packages (from -r ../requirements.txt (line 3)) (2.1.1)\nRequirement already satisfied: Pillow in /home/nbuser/anaconda3_420/lib/python3.5/site-packages (from -r ../requirements.txt (line 4)) (4.3.0)\nRequirement already satisfied: ipywidgets>=0.6.0 in /home/nbuser/anaconda3_420/lib/python3.5/site-packages (from -r ../requirements.txt (line 5)) (7.2.1)\nRequirement already satisfied: requests in /home/nbuser/anaconda3_420/lib/python3.5/site-packages (from -r ../requirements.txt (line 6)) (2.14.2)\nRequirement already satisfied: SimPEG in /home/nbuser/anaconda3_420/lib/python3.5/site-packages (from -r ../requirements.txt (line 7)) (0.9.2)\nRequirement already satisfied: em_examples in /home/nbuser/anaconda3_420/lib/python3.5/site-packages (from -r ../requirements.txt (line 8)) (0.0.30)\nRequirement already satisfied: empymod in /home/nbuser/anaconda3_420/lib/python3.5/site-packages (from -r ../requirements.txt (line 9)) (1.7.3)\nRequirement already satisfied: deepdish in /home/nbuser/anaconda3_420/lib/python3.5/site-packages (from -r ../requirements.txt (line 10)) (0.3.6)\nRequirement already satisfied: pymatsolver>=0.1.2 in /home/nbuser/anaconda3_420/lib/python3.5/site-packages (from -r ../requirements.txt (line 11)) (0.1.2)\nRequirement already satisfied: six>=1.10 in /home/nbuser/anaconda3_420/lib/python3.5/site-packages (from matplotlib->-r ../requirements.txt (line 3)) (1.10.0)\nRequirement already satisfied: python-dateutil>=2.0 in /home/nbuser/anaconda3_420/lib/python3.5/site-packages (from matplotlib->-r ../requirements.txt (line 3)) (2.5.3)\nRequirement already satisfied: pytz in /home/nbuser/anaconda3_420/lib/python3.5/site-packages (from matplotlib->-r ../requirements.txt (line 3)) (2016.6.1)\nRequirement already satisfied: cycler>=0.10 in /home/nbuser/anaconda3_420/lib/python3.5/site-packages (from matplotlib->-r ../requirements.txt (line 3)) (0.10.0)\nRequirement already satisfied: pyparsing!=2.0.4,!=2.1.2,!=2.1.6,>=2.0.1 in /home/nbuser/anaconda3_420/lib/python3.5/site-packages (from matplotlib->-r ../requirements.txt (line 3)) (2.1.4)\nRequirement already satisfied: olefile in /home/nbuser/anaconda3_420/lib/python3.5/site-packages (from Pillow->-r ../requirements.txt (line 4)) (0.44)\nRequirement already satisfied: ipykernel>=4.5.1 in /home/nbuser/anaconda3_420/lib/python3.5/site-packages (from ipywidgets>=0.6.0->-r ../requirements.txt (line 5)) (4.7.0)\nRequirement already satisfied: traitlets>=4.3.1 in /home/nbuser/anaconda3_420/lib/python3.5/site-packages (from ipywidgets>=0.6.0->-r ../requirements.txt (line 5)) (4.3.1)\nRequirement already satisfied: nbformat>=4.2.0 in /home/nbuser/anaconda3_420/lib/python3.5/site-packages (from ipywidgets>=0.6.0->-r ../requirements.txt (line 5)) (4.2.0)\nRequirement already satisfied: widgetsnbextension~=3.2.0 in /home/nbuser/anaconda3_420/lib/python3.5/site-packages (from ipywidgets>=0.6.0->-r ../requirements.txt (line 5)) (3.2.0)\nRequirement already satisfied: ipython>=4.0.0 in /home/nbuser/anaconda3_420/lib/python3.5/site-packages (from ipywidgets>=0.6.0->-r ../requirements.txt (line 5)) (6.2.1)\nRequirement already satisfied: cython in /home/nbuser/anaconda3_420/lib/python3.5/site-packages (from SimPEG->-r ../requirements.txt (line 7)) (0.24.1)\nRequirement already satisfied: properties>=0.5.2 in /home/nbuser/anaconda3_420/lib/python3.5/site-packages (from SimPEG->-r ../requirements.txt (line 7)) (0.5.3)\nRequirement already satisfied: vectormath>=0.2.0 in /home/nbuser/anaconda3_420/lib/python3.5/site-packages (from SimPEG->-r ../requirements.txt (line 7)) (0.2.0)\nRequirement already satisfied: discretize>=0.2.0 in /home/nbuser/anaconda3_420/lib/python3.5/site-packages (from SimPEG->-r ../requirements.txt (line 7)) (0.3.2)\nRequirement already satisfied: geoana>=0.0.4 in /home/nbuser/anaconda3_420/lib/python3.5/site-packages (from SimPEG->-r ../requirements.txt (line 7)) (0.0.5)\nRequirement already satisfied: future in /home/nbuser/anaconda3_420/lib/python3.5/site-packages (from em_examples->-r ../requirements.txt (line 8)) (0.16.0)\nRequirement already satisfied: jupyter in /home/nbuser/anaconda3_420/lib/python3.5/site-packages (from em_examples->-r ../requirements.txt (line 8)) (1.0.0)\nRequirement already satisfied: tables in /home/nbuser/anaconda3_420/lib/python3.5/site-packages (from deepdish->-r ../requirements.txt (line 10)) (3.4.2)\nRequirement already satisfied: pyMKL>=0.0.3 in /home/nbuser/anaconda3_420/lib/python3.5/site-packages (from pymatsolver>=0.1.2->-r ../requirements.txt (line 11)) (0.0.3)\nRequirement already satisfied: jupyter_client in /home/nbuser/anaconda3_420/lib/python3.5/site-packages (from ipykernel>=4.5.1->ipywidgets>=0.6.0->-r ../requirements.txt (line 5)) (5.1.0)\nRequirement already satisfied: tornado>=4.0 in /home/nbuser/anaconda3_420/lib/python3.5/site-packages (from ipykernel>=4.5.1->ipywidgets>=0.6.0->-r ../requirements.txt (line 5)) (4.4.1)\nRequirement already satisfied: notebook>=4.4.1 in /home/nbuser/anaconda3_420/lib/python3.5/site-packages (from widgetsnbextension~=3.2.0->ipywidgets>=0.6.0->-r ../requirements.txt (line 5)) (5.0.0)\nRequirement already satisfied: setuptools>=18.5 in /home/nbuser/anaconda3_420/lib/python3.5/site-packages (from ipython>=4.0.0->ipywidgets>=0.6.0->-r ../requirements.txt (line 5)) (40.0.0)\nRequirement already satisfied: jedi>=0.10 in /home/nbuser/anaconda3_420/lib/python3.5/site-packages (from ipython>=4.0.0->ipywidgets>=0.6.0->-r ../requirements.txt (line 5)) (0.11.0)\nRequirement already satisfied: decorator in /home/nbuser/anaconda3_420/lib/python3.5/site-packages (from ipython>=4.0.0->ipywidgets>=0.6.0->-r ../requirements.txt (line 5)) (4.0.10)\nRequirement already satisfied: pickleshare in /home/nbuser/anaconda3_420/lib/python3.5/site-packages (from ipython>=4.0.0->ipywidgets>=0.6.0->-r ../requirements.txt (line 5)) (0.7.4)\nRequirement already satisfied: simplegeneric>0.8 in /home/nbuser/anaconda3_420/lib/python3.5/site-packages (from ipython>=4.0.0->ipywidgets>=0.6.0->-r ../requirements.txt (line 5)) (0.8.1)\nRequirement already satisfied: prompt_toolkit<2.0.0,>=1.0.4 in /home/nbuser/anaconda3_420/lib/python3.5/site-packages (from ipython>=4.0.0->ipywidgets>=0.6.0->-r ../requirements.txt (line 5)) (1.0.15)\nRequirement already satisfied: pygments in /home/nbuser/anaconda3_420/lib/python3.5/site-packages (from ipython>=4.0.0->ipywidgets>=0.6.0->-r ../requirements.txt (line 5)) (2.1.3)\nRequirement already satisfied: pexpect in /home/nbuser/anaconda3_420/lib/python3.5/site-packages (from ipython>=4.0.0->ipywidgets>=0.6.0->-r ../requirements.txt (line 5)) (4.0.1)\nRequirement already satisfied: utm in /home/nbuser/anaconda3_420/lib/python3.5/site-packages (from geoana>=0.0.4->SimPEG->-r ../requirements.txt (line 7)) (0.4.2)\nRequirement already satisfied: numexpr>=2.5.2 in /home/nbuser/anaconda3_420/lib/python3.5/site-packages (from tables->deepdish->-r ../requirements.txt (line 10)) (2.6.2)\nRequirement already satisfied: jupyter_core in /home/nbuser/anaconda3_420/lib/python3.5/site-packages (from jupyter_client->ipykernel>=4.5.1->ipywidgets>=0.6.0->-r ../requirements.txt (line 5)) (4.4.0)\nRequirement already satisfied: pyzmq>=13 in /home/nbuser/anaconda3_420/lib/python3.5/site-packages (from jupyter_client->ipykernel>=4.5.1->ipywidgets>=0.6.0->-r ../requirements.txt (line 5)) (15.4.0)\nRequirement already satisfied: parso==0.1.* in /home/nbuser/anaconda3_420/lib/python3.5/site-packages (from jedi>=0.10->ipython>=4.0.0->ipywidgets>=0.6.0->-r ../requirements.txt (line 5)) (0.1.1)\nRequirement already satisfied: wcwidth in /home/nbuser/anaconda3_420/lib/python3.5/site-packages (from prompt_toolkit<2.0.0,>=1.0.4->ipython>=4.0.0->ipywidgets>=0.6.0->-r ../requirements.txt (line 5)) (0.1.7)\n"
        }
      ]
    },
    {
      "metadata": {
        "trusted": true
      },
      "cell_type": "code",
      "source": "from em_examples.DCWidgetPlate2_5D import plate_app\nfrom IPython.display import display\n%matplotlib inline",
      "execution_count": 1,
      "outputs": []
    },
    {
      "metadata": {
        "trusted": true
      },
      "cell_type": "code",
      "source": "from matplotlib import rcParams\nrcParams['font.size'] = 16",
      "execution_count": 2,
      "outputs": []
    },
    {
      "metadata": {},
      "cell_type": "markdown",
      "source": "# Purpose \n\nFor a direct current resistivity (DCR) survey, currents are injected into the earth, and flow. \nDepending upon the subsurface conductivity structures current flow in the earth will be distorted and charges will accumulate on interfaces between regions of different conductivites. These changes can be measurable at the sufurface electrodes. \n\nHere, we focus on a plate target embedded in a halfspace, and investigate what is happening in the earth when static currents are injected. Different from the sphere case, which is symmetric, \"coupling\" between the Tx, target (conductor or resistor), and Rx will be significanlty different with various scenarios and geometries. \nUsing this app we can investigate what effect different targets and survey geometries have on the currents, electric fields, potentials, charges, and sensitivities."
    },
    {
      "metadata": {},
      "cell_type": "markdown",
      "source": "# Set up\n\n<img src=\"https://github.com/geoscixyz/em_apps/blob/master/images/DC_PlateApp_Setup.png?raw=true\">"
    },
    {
      "metadata": {},
      "cell_type": "markdown",
      "source": "# Questions\n\n- Is the potential difference measured by a dipole over a conductive (/resisitive) target higher or lower compared to the half-space reference?\n- how do the field lines bend in presence of a conductive (/resistive) target?\n- Compared to the positive and negative sources (A and B), how are oriented the positive and negative accumulated charges around a conductive (/resistive) target?\n- How would you describe the secondary fields pattern? Does it remind you of the response of an object fundamental to electromagnetics?"
    },
    {
      "metadata": {},
      "cell_type": "markdown",
      "source": "# Plate app\n\n## Parameters:\n\n - **survey**: Type of survey\n - **A**: (+) Current electrode  location\n - **B**: (-) Current electrode  location\n - **M**: (+) Potential electrode  location\n - **N**: (-) Potential electrode  location\n - **dx**: width of plate\n - **dz**: height/thickness of plate\n - **xc**: x location of plate center\n - **zc**: z location of plate center\n - **$\\theta$**: rotation angle of plate from the horizontal\n - **$\\rho_1$**: Resistivity of the halfspace\n - **$\\rho_2$**: Resistivity of the plate\n - **Field**: Field to visualize\n - **Type**: which part of the field\n - **Scale**: Linear or Log Scale visualization\n \n###  **Do not forget to hit Run Interact to update the figure after you made modifications**"
    },
    {
      "metadata": {
        "trusted": true
      },
      "cell_type": "code",
      "source": "app = plate_app();",
      "execution_count": 3,
      "outputs": [
        {
          "output_type": "display_data",
          "data": {
            "application/vnd.jupyter.widget-view+json": {
              "model_id": "89c49c85f4f141b5a7afe44c328af13c",
              "version_minor": 0,
              "version_major": 2
            },
            "text/plain": "interactive(children=(ToggleButtons(description='survey', options=('Dipole-Dipole', 'Dipole-Pole', 'Pole-Dipol…"
          },
          "metadata": {}
        }
      ]
    },
    {
      "metadata": {
        "trusted": false
      },
      "cell_type": "code",
      "source": "",
      "execution_count": null,
      "outputs": []
    }
  ],
  "metadata": {
    "anaconda-cloud": {},
    "kernelspec": {
      "name": "python3",
      "display_name": "Python 3",
      "language": "python"
    },
    "language_info": {
      "mimetype": "text/x-python",
      "nbconvert_exporter": "python",
      "name": "python",
      "file_extension": ".py",
      "version": "3.5.4",
      "pygments_lexer": "ipython3",
      "codemirror_mode": {
        "version": 3,
        "name": "ipython"
      }
    },
    "widgets": {
      "state": {
        "0e24801df98347a28f276077ded582ef": {
          "views": [
            {
              "cell_index": 5
            }
          ]
        }
      },
      "version": "1.2.0"
    }
  },
  "nbformat": 4,
  "nbformat_minor": 1
}