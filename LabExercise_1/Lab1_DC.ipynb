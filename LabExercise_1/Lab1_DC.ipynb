{
  "cells": [
    {
      "metadata": {},
      "cell_type": "markdown",
      "source": "# Understanding DC resistivity: currents, apparent resistivity, and charges\nIn this lab exercise, we are going to use the interactive EM apps to create some models and look at the distribution of current densities and charges. The goal of this lab is to help you develop a better undertanding of the important concepts related to DC resistivity, namely, currents, apparent resistivity and charges. <br>\n<br>\nAfter finishing this exercise, you will <br>\n1. be able to use Jupyter Notebooks;\n2. be able to run the interactive EM apps;\n3. be able to creat resistivity models;\n4. understand how currents flow in the subsurface for a DC survey;\n5. understand how charges are built up; and\n6. eventually develop a better understanding of the DC resistivity method. <br>\n\n\nAuthor: Jiajia Sun at University of Houston, September 6th, 2018."
    },
    {
      "metadata": {},
      "cell_type": "markdown",
      "source": "## 1. Install some necessary packages"
    },
    {
      "metadata": {
        "trusted": true
      },
      "cell_type": "code",
      "source": "!pip install -r ../requirements.txt",
      "execution_count": 1,
      "outputs": [
        {
          "output_type": "stream",
          "text": "Requirement already satisfied: numpy in /home/nbuser/anaconda3_501/lib/python3.6/site-packages (from -r ../requirements.txt (line 1)) (1.16.2)\nRequirement already satisfied: scipy in /home/nbuser/anaconda3_501/lib/python3.6/site-packages (from -r ../requirements.txt (line 2)) (1.1.0)\nRequirement already satisfied: matplotlib in /home/nbuser/anaconda3_501/lib/python3.6/site-packages (from -r ../requirements.txt (line 3)) (3.0.0)\nRequirement already satisfied: Pillow in /home/nbuser/anaconda3_501/lib/python3.6/site-packages (from -r ../requirements.txt (line 4)) (5.3.0)\nRequirement already satisfied: ipywidgets>=0.6.0 in /home/nbuser/anaconda3_501/lib/python3.6/site-packages (from -r ../requirements.txt (line 5)) (7.4.2)\nRequirement already satisfied: requests in /home/nbuser/anaconda3_501/lib/python3.6/site-packages (from -r ../requirements.txt (line 6)) (2.22.0)\nCollecting SimPEG (from -r ../requirements.txt (line 7))\n  Using cached https://files.pythonhosted.org/packages/c4/05/6480fd00c7e6809f855134f9a47dd0cc61a2ed5538c367372290cdc6dcaf/SimPEG-0.12.0.tar.gz\nCollecting em_examples (from -r ../requirements.txt (line 8))\n  Using cached https://files.pythonhosted.org/packages/e8/39/1a285f68abfdbacc00deefbcd7d2053b6dd67d9ab384a4cbc70a523ae84c/em_examples-0.0.35-py3-none-any.whl\nCollecting empymod (from -r ../requirements.txt (line 9))\n  Using cached https://files.pythonhosted.org/packages/47/e4/86a4d029a4291cf0da0206e405467eb1ba61c1fe80a5c1df92733775f89b/empymod-1.9.0-py3-none-any.whl\nCollecting deepdish (from -r ../requirements.txt (line 10))\n  Using cached https://files.pythonhosted.org/packages/6e/39/2a47c852651982bc5eb39212ac110284dd20126bdc7b49bde401a0139f5d/deepdish-0.3.6-py2.py3-none-any.whl\nCollecting pymatsolver>=0.1.2 (from -r ../requirements.txt (line 11))\n  Using cached https://files.pythonhosted.org/packages/0f/5e/30e92dfe738cc3e28f52344484aa2c6e44872787b2edd789df0eaae04e3b/pymatsolver-0.1.2.tar.gz\nRequirement already satisfied: cycler>=0.10 in /home/nbuser/anaconda3_501/lib/python3.6/site-packages (from matplotlib->-r ../requirements.txt (line 3)) (0.10.0)\nRequirement already satisfied: kiwisolver>=1.0.1 in /home/nbuser/anaconda3_501/lib/python3.6/site-packages (from matplotlib->-r ../requirements.txt (line 3)) (1.0.1)\nRequirement already satisfied: pyparsing!=2.0.4,!=2.1.2,!=2.1.6,>=2.0.1 in /home/nbuser/anaconda3_501/lib/python3.6/site-packages (from matplotlib->-r ../requirements.txt (line 3)) (2.3.0)\nRequirement already satisfied: python-dateutil>=2.1 in /home/nbuser/anaconda3_501/lib/python3.6/site-packages (from matplotlib->-r ../requirements.txt (line 3)) (2.8.0)\nRequirement already satisfied: widgetsnbextension~=3.4.0 in /home/nbuser/anaconda3_501/lib/python3.6/site-packages (from ipywidgets>=0.6.0->-r ../requirements.txt (line 5)) (3.4.2)\nRequirement already satisfied: traitlets>=4.3.1 in /home/nbuser/anaconda3_501/lib/python3.6/site-packages (from ipywidgets>=0.6.0->-r ../requirements.txt (line 5)) (4.3.2)\nRequirement already satisfied: nbformat>=4.2.0 in /home/nbuser/anaconda3_501/lib/python3.6/site-packages (from ipywidgets>=0.6.0->-r ../requirements.txt (line 5)) (4.4.0)\nRequirement already satisfied: ipykernel>=4.5.1 in /home/nbuser/anaconda3_501/lib/python3.6/site-packages (from ipywidgets>=0.6.0->-r ../requirements.txt (line 5)) (5.1.0)\nRequirement already satisfied: ipython>=4.0.0; python_version >= \"3.3\" in /home/nbuser/anaconda3_501/lib/python3.6/site-packages (from ipywidgets>=0.6.0->-r ../requirements.txt (line 5)) (7.1.1)\nRequirement already satisfied: idna<2.9,>=2.5 in /home/nbuser/anaconda3_501/lib/python3.6/site-packages (from requests->-r ../requirements.txt (line 6)) (2.7)\nRequirement already satisfied: urllib3!=1.25.0,!=1.25.1,<1.26,>=1.21.1 in /home/nbuser/anaconda3_501/lib/python3.6/site-packages (from requests->-r ../requirements.txt (line 6)) (1.23)\nRequirement already satisfied: chardet<3.1.0,>=3.0.2 in /home/nbuser/anaconda3_501/lib/python3.6/site-packages (from requests->-r ../requirements.txt (line 6)) (3.0.4)\nRequirement already satisfied: certifi>=2017.4.17 in /home/nbuser/anaconda3_501/lib/python3.6/site-packages (from requests->-r ../requirements.txt (line 6)) (2018.10.15)\nRequirement already satisfied: cython in /home/nbuser/anaconda3_501/lib/python3.6/site-packages (from SimPEG->-r ../requirements.txt (line 7)) (0.29.13)\nCollecting properties>=0.5.2 (from SimPEG->-r ../requirements.txt (line 7))\n  Using cached https://files.pythonhosted.org/packages/c0/9a/cd2def3421cd077d80d4973c802d29dcb3fba625190b3678480f228a85bf/properties-0.6.1.tar.gz\nCollecting vectormath>=0.2.0 (from SimPEG->-r ../requirements.txt (line 7))\n  Using cached https://files.pythonhosted.org/packages/be/d3/5d49b6e961d87ba4845205509fbd0f2fa39875859ccb5e4778035518b89f/vectormath-0.2.2.tar.gz\nCollecting discretize>=0.4.0 (from SimPEG->-r ../requirements.txt (line 7))\n  Using cached https://files.pythonhosted.org/packages/b1/41/4766aa8a1f6db9357f6941e6ffb1e6b572b9cfe9467d2d81d7dd431f20cd/discretize-0.4.10.tar.gz\nCollecting geoana>=0.0.4 (from SimPEG->-r ../requirements.txt (line 7))\n  Using cached https://files.pythonhosted.org/packages/60/34/5715c1b3e35b4b7e0fdef463405c9ae5b073563f48118f2a54165be78cdc/geoana-0.0.5-py2.py3-none-any.whl\nRequirement already satisfied: jupyter in /home/nbuser/anaconda3_501/lib/python3.6/site-packages (from em_examples->-r ../requirements.txt (line 8)) (1.0.0)\nRequirement already satisfied: future in /home/nbuser/anaconda3_501/lib/python3.6/site-packages (from em_examples->-r ../requirements.txt (line 8)) (0.16.0)\nRequirement already satisfied: tables in /home/nbuser/anaconda3_501/lib/python3.6/site-packages (from deepdish->-r ../requirements.txt (line 10)) (3.4.4)\nCollecting pyMKL>=0.0.3 (from pymatsolver>=0.1.2->-r ../requirements.txt (line 11))\n  Using cached https://files.pythonhosted.org/packages/43/9d/0657fdb64d31a83c5caab80a70e55dac7658ba3fac7d1f43cbcca726b286/pyMKL-0.0.3.tar.gz\nRequirement already satisfied: six in /home/nbuser/anaconda3_501/lib/python3.6/site-packages (from cycler>=0.10->matplotlib->-r ../requirements.txt (line 3)) (1.11.0)\nRequirement already satisfied: setuptools in /home/nbuser/anaconda3_501/lib/python3.6/site-packages (from kiwisolver>=1.0.1->matplotlib->-r ../requirements.txt (line 3)) (41.1.0)\nRequirement already satisfied: notebook>=4.4.1 in /home/nbuser/anaconda3_501/lib/python3.6/site-packages (from widgetsnbextension~=3.4.0->ipywidgets>=0.6.0->-r ../requirements.txt (line 5)) (5.7.2)\nRequirement already satisfied: decorator in /home/nbuser/anaconda3_501/lib/python3.6/site-packages (from traitlets>=4.3.1->ipywidgets>=0.6.0->-r ../requirements.txt (line 5)) (4.3.0)\nRequirement already satisfied: ipython-genutils in /home/nbuser/anaconda3_501/lib/python3.6/site-packages (from traitlets>=4.3.1->ipywidgets>=0.6.0->-r ../requirements.txt (line 5)) (0.2.0)\nRequirement already satisfied: jsonschema!=2.5.0,>=2.4 in /home/nbuser/anaconda3_501/lib/python3.6/site-packages (from nbformat>=4.2.0->ipywidgets>=0.6.0->-r ../requirements.txt (line 5)) (2.6.0)\nRequirement already satisfied: jupyter-core in /home/nbuser/anaconda3_501/lib/python3.6/site-packages (from nbformat>=4.2.0->ipywidgets>=0.6.0->-r ../requirements.txt (line 5)) (4.4.0)\nRequirement already satisfied: jupyter-client in /home/nbuser/anaconda3_501/lib/python3.6/site-packages (from ipykernel>=4.5.1->ipywidgets>=0.6.0->-r ../requirements.txt (line 5)) (5.2.3)\nRequirement already satisfied: tornado>=4.2 in /home/nbuser/anaconda3_501/lib/python3.6/site-packages (from ipykernel>=4.5.1->ipywidgets>=0.6.0->-r ../requirements.txt (line 5)) (4.5.3)\nRequirement already satisfied: pygments in /home/nbuser/anaconda3_501/lib/python3.6/site-packages (from ipython>=4.0.0; python_version >= \"3.3\"->ipywidgets>=0.6.0->-r ../requirements.txt (line 5)) (2.2.0)\nRequirement already satisfied: pexpect; sys_platform != \"win32\" in /home/nbuser/anaconda3_501/lib/python3.6/site-packages (from ipython>=4.0.0; python_version >= \"3.3\"->ipywidgets>=0.6.0->-r ../requirements.txt (line 5)) (4.6.0)\nRequirement already satisfied: prompt-toolkit<2.1.0,>=2.0.0 in /home/nbuser/anaconda3_501/lib/python3.6/site-packages (from ipython>=4.0.0; python_version >= \"3.3\"->ipywidgets>=0.6.0->-r ../requirements.txt (line 5)) (2.0.7)\n",
          "name": "stdout"
        },
        {
          "output_type": "stream",
          "text": "Requirement already satisfied: backcall in /home/nbuser/anaconda3_501/lib/python3.6/site-packages (from ipython>=4.0.0; python_version >= \"3.3\"->ipywidgets>=0.6.0->-r ../requirements.txt (line 5)) (0.1.0)\nRequirement already satisfied: pickleshare in /home/nbuser/anaconda3_501/lib/python3.6/site-packages (from ipython>=4.0.0; python_version >= \"3.3\"->ipywidgets>=0.6.0->-r ../requirements.txt (line 5)) (0.7.5)\nRequirement already satisfied: jedi>=0.10 in /home/nbuser/anaconda3_501/lib/python3.6/site-packages (from ipython>=4.0.0; python_version >= \"3.3\"->ipywidgets>=0.6.0->-r ../requirements.txt (line 5)) (0.13.1)\nCollecting utm (from geoana>=0.0.4->SimPEG->-r ../requirements.txt (line 7))\n  Using cached https://files.pythonhosted.org/packages/b6/77/180f06153f2c1a8caf8409ff6365abc9423ec4ebc3991dfe4a3228bc09d4/utm-0.5.0.tar.gz\nRequirement already satisfied: nbconvert in /home/nbuser/anaconda3_501/lib/python3.6/site-packages (from jupyter->em_examples->-r ../requirements.txt (line 8)) (5.6.0)\nRequirement already satisfied: qtconsole in /home/nbuser/anaconda3_501/lib/python3.6/site-packages (from jupyter->em_examples->-r ../requirements.txt (line 8)) (4.4.2)\nRequirement already satisfied: jupyter-console in /home/nbuser/anaconda3_501/lib/python3.6/site-packages (from jupyter->em_examples->-r ../requirements.txt (line 8)) (6.0.0)\nRequirement already satisfied: numexpr>=2.5.2 in /home/nbuser/anaconda3_501/lib/python3.6/site-packages (from tables->deepdish->-r ../requirements.txt (line 10)) (2.6.8)\nRequirement already satisfied: pyzmq>=17 in /home/nbuser/anaconda3_501/lib/python3.6/site-packages (from notebook>=4.4.1->widgetsnbextension~=3.4.0->ipywidgets>=0.6.0->-r ../requirements.txt (line 5)) (17.1.2)\nRequirement already satisfied: terminado>=0.8.1 in /home/nbuser/anaconda3_501/lib/python3.6/site-packages (from notebook>=4.4.1->widgetsnbextension~=3.4.0->ipywidgets>=0.6.0->-r ../requirements.txt (line 5)) (0.8.1)\nRequirement already satisfied: jinja2 in /home/nbuser/anaconda3_501/lib/python3.6/site-packages (from notebook>=4.4.1->widgetsnbextension~=3.4.0->ipywidgets>=0.6.0->-r ../requirements.txt (line 5)) (2.10)\nRequirement already satisfied: Send2Trash in /home/nbuser/anaconda3_501/lib/python3.6/site-packages (from notebook>=4.4.1->widgetsnbextension~=3.4.0->ipywidgets>=0.6.0->-r ../requirements.txt (line 5)) (1.5.0)\nRequirement already satisfied: prometheus-client in /home/nbuser/anaconda3_501/lib/python3.6/site-packages (from notebook>=4.4.1->widgetsnbextension~=3.4.0->ipywidgets>=0.6.0->-r ../requirements.txt (line 5)) (0.4.2)\nRequirement already satisfied: ptyprocess>=0.5 in /home/nbuser/anaconda3_501/lib/python3.6/site-packages (from pexpect; sys_platform != \"win32\"->ipython>=4.0.0; python_version >= \"3.3\"->ipywidgets>=0.6.0->-r ../requirements.txt (line 5)) (0.6.0)\nRequirement already satisfied: wcwidth in /home/nbuser/anaconda3_501/lib/python3.6/site-packages (from prompt-toolkit<2.1.0,>=2.0.0->ipython>=4.0.0; python_version >= \"3.3\"->ipywidgets>=0.6.0->-r ../requirements.txt (line 5)) (0.1.7)\nRequirement already satisfied: parso>=0.3.0 in /home/nbuser/anaconda3_501/lib/python3.6/site-packages (from jedi>=0.10->ipython>=4.0.0; python_version >= \"3.3\"->ipywidgets>=0.6.0->-r ../requirements.txt (line 5)) (0.3.1)\nRequirement already satisfied: testpath in /home/nbuser/anaconda3_501/lib/python3.6/site-packages (from nbconvert->jupyter->em_examples->-r ../requirements.txt (line 8)) (0.4.2)\nRequirement already satisfied: defusedxml in /home/nbuser/anaconda3_501/lib/python3.6/site-packages (from nbconvert->jupyter->em_examples->-r ../requirements.txt (line 8)) (0.5.0)\nRequirement already satisfied: entrypoints>=0.2.2 in /home/nbuser/anaconda3_501/lib/python3.6/site-packages (from nbconvert->jupyter->em_examples->-r ../requirements.txt (line 8)) (0.2.3)\nRequirement already satisfied: pandocfilters>=1.4.1 in /home/nbuser/anaconda3_501/lib/python3.6/site-packages (from nbconvert->jupyter->em_examples->-r ../requirements.txt (line 8)) (1.4.2)\nRequirement already satisfied: mistune<2,>=0.8.1 in /home/nbuser/anaconda3_501/lib/python3.6/site-packages (from nbconvert->jupyter->em_examples->-r ../requirements.txt (line 8)) (0.8.4)\nRequirement already satisfied: bleach in /home/nbuser/anaconda3_501/lib/python3.6/site-packages (from nbconvert->jupyter->em_examples->-r ../requirements.txt (line 8)) (1.5.0)\nRequirement already satisfied: MarkupSafe>=0.23 in /home/nbuser/anaconda3_501/lib/python3.6/site-packages (from jinja2->notebook>=4.4.1->widgetsnbextension~=3.4.0->ipywidgets>=0.6.0->-r ../requirements.txt (line 5)) (1.1.0)\nRequirement already satisfied: html5lib!=0.9999,!=0.99999,<0.99999999,>=0.999 in /home/nbuser/anaconda3_501/lib/python3.6/site-packages (from bleach->nbconvert->jupyter->em_examples->-r ../requirements.txt (line 8)) (0.9999999)\nBuilding wheels for collected packages: SimPEG, pymatsolver, properties, vectormath, discretize, pyMKL, utm\n  Building wheel for SimPEG (setup.py) ... \u001b[?25ldone\n\u001b[?25h  Created wheel for SimPEG: filename=SimPEG-0.12.0-cp36-none-any.whl size=300155 sha256=1405343ee1628d497a05e2d4fdfb59c9d2e15e043d5f5ab731a2d35363b1fd01\n  Stored in directory: /home/nbuser/.cache/pip/wheels/2e/5a/e9/91fe65f3693bf49496c16b290be247c1ce2a83cbc0ecd6de89\n  Building wheel for pymatsolver (setup.py) ... \u001b[?25ldone\n\u001b[?25h  Created wheel for pymatsolver: filename=pymatsolver-0.1.2-cp36-none-any.whl size=18191 sha256=fbdc27e5bd7b8d881ecdd8970e0e52416b15542f778c7f6ab009bf5f2a982c63\n  Stored in directory: /home/nbuser/.cache/pip/wheels/09/66/a3/c540b8d29d1edab2bd4fabe368987aedc7fda18e742672be5b\n  Building wheel for properties (setup.py) ... \u001b[?25ldone\n\u001b[?25h  Created wheel for properties: filename=properties-0.6.1-cp36-none-any.whl size=62362 sha256=638da913a062ef553e504e14ced995fe5ea5cd5c2377ddb8062c9047e7af7016\n  Stored in directory: /home/nbuser/.cache/pip/wheels/9d/d9/66/f1f984e6dbe9ca4fb0c51617e526a73945f90936d4ae040fc2\n  Building wheel for vectormath (setup.py) ... \u001b[?25ldone\n\u001b[?25h  Created wheel for vectormath: filename=vectormath-0.2.2-cp36-none-any.whl size=9354 sha256=8e6d4307965f3a17cc454fb26078dc55534af11584a14dcbd6fc830760399290\n  Stored in directory: /home/nbuser/.cache/pip/wheels/82/45/db/21f8afb4447691ddc30be13170201154af9647c9653aa899b1\n  Building wheel for discretize (setup.py) ... \u001b[?25ldone\n\u001b[?25h  Created wheel for discretize: filename=discretize-0.4.10-cp36-cp36m-linux_x86_64.whl size=2334940 sha256=83ba162f1bd5b42193c058f505059ed307886547d5771f6f88358654f6e46c7f\n  Stored in directory: /home/nbuser/.cache/pip/wheels/2f/64/bb/e65ceff1490fddea5cd123ba500360f0d400938fb0ce68872b\n  Building wheel for pyMKL (setup.py) ... \u001b[?25ldone\n\u001b[?25h  Created wheel for pyMKL: filename=pyMKL-0.0.3-cp36-none-any.whl size=7067 sha256=19fb093ccfc1fa504f69d924db8df88f61a75083a5e830de7633d3c5f00fd617\n  Stored in directory: /home/nbuser/.cache/pip/wheels/d6/40/40/df64f35d394a22fbecae00749cb8e7071798a3554fac9e5abe\n  Building wheel for utm (setup.py) ... \u001b[?25ldone\n\u001b[?25h  Created wheel for utm: filename=utm-0.5.0-cp36-none-any.whl size=5945 sha256=0b7a129938b816d530db4ae4e62089755cd93a8daa5013875753c8a6af001d65\n  Stored in directory: /home/nbuser/.cache/pip/wheels/22/85/c2/314ffed39b8e02ca623e9b7d2ad7fcf3f8544a0e77c096be76\nSuccessfully built SimPEG pymatsolver properties vectormath discretize pyMKL utm\nInstalling collected packages: pyMKL, pymatsolver, properties, vectormath, discretize, utm, geoana, SimPEG, deepdish, empymod, em-examples\nSuccessfully installed SimPEG-0.12.0 deepdish-0.3.6 discretize-0.4.10 em-examples-0.0.35 empymod-1.9.0 geoana-0.0.5 properties-0.6.1 pyMKL-0.0.3 pymatsolver-0.1.2 utm-0.5.0 vectormath-0.2.2\n\u001b[33mWARNING: You are using pip version 19.2.2, however version 19.3 is available.\nYou should consider upgrading via the 'pip install --upgrade pip' command.\u001b[0m\n",
          "name": "stdout"
        }
      ]
    },
    {
      "metadata": {},
      "cell_type": "markdown",
      "source": "## 2. Explore the LayeredEarth app"
    },
    {
      "metadata": {
        "trusted": false
      },
      "cell_type": "code",
      "source": "from em_examples import DCLayers\nfrom IPython.display import display\n%matplotlib inline",
      "execution_count": 1,
      "outputs": [
        {
          "name": "stderr",
          "output_type": "stream",
          "text": "/home/nbuser/anaconda3_501/lib/python3.6/importlib/_bootstrap.py:219: RuntimeWarning: numpy.dtype size changed, may indicate binary incompatibility. Expected 96, got 88\n  return f(*args, **kwds)\n/home/nbuser/anaconda3_501/lib/python3.6/importlib/_bootstrap.py:219: RuntimeWarning: numpy.dtype size changed, may indicate binary incompatibility. Expected 96, got 88\n  return f(*args, **kwds)\n"
        }
      ]
    },
    {
      "metadata": {
        "trusted": false
      },
      "cell_type": "code",
      "source": "from matplotlib import rcParams\nrcParams['font.size'] = 14",
      "execution_count": 2,
      "outputs": []
    },
    {
      "metadata": {},
      "cell_type": "markdown",
      "source": "### Parameters:\n\n - **A**: (+) Current electrode  location\n - **B**: (-) Current electrode  location\n - **M**: (+) Potential electrode  location\n - **N**: (-) Potential electrode  location\n - **$\\rho_1$**: Resistivity of the first layer\n - **$\\rho_2$**: Resistivity of the second layer\n - **h**: Thickness of the first layer\n - **Plot**: Choice of 2D plot (Model, Potential, Electric field, Currents)\n"
    },
    {
      "metadata": {
        "trusted": false
      },
      "cell_type": "code",
      "source": "out = DCLayers.plot_layer_potentials_app()\ndisplay(out)",
      "execution_count": 3,
      "outputs": [
        {
          "data": {
            "application/vnd.jupyter.widget-view+json": {
              "model_id": "40f85189c8f84e96933d6ff38495619e",
              "version_major": 2,
              "version_minor": 0
            },
            "text/plain": "MyApp(children=(FloatSlider(value=-30.0, continuous_update=False, description='A', max=30.0, min=-30.0, step=1…"
          },
          "metadata": {},
          "output_type": "display_data"
        }
      ]
    },
    {
      "metadata": {},
      "cell_type": "markdown",
      "source": "<font color = red>**Task 1**</font>: Create a <font color = blue>two-layer</font> Earth model. Set the thickness of the first layer to <font color = blue> 10 m </font>. Also, set the resistivity of the first layer to <font color = blue>100</font> Ohm\\*m and the resistivity of underlying halfspace to <font color = blue>500 </font> Ohm\\*m. <font color = red>**(10 points)**</font>"
    },
    {
      "metadata": {},
      "cell_type": "markdown",
      "source": "<font color = red>**Task 2**</font>: Place the <font color = blue>**A**</font>, <font color = blue>**B**</font>, <font color = blue>**M**</font> and <font color = blue>**N**</font> electrodes at <font color = red>-5 </font>m, <font color=red>5</font> m, <font color=red>-2</font> m and <font color = red>2</font> m, respectively. Calculate the apparent resistivity based on the potential values shown in the upper panel (i.e., 3.1 and -3.1 Volts). Note that the current that was injected into the ground is 1 A. Compare your apparent resistivity with the value in the grey box at the upper right corner in the upper panel. Your answer should be very close to what is shown there. <font color = red>**(10 points)**</font>\n<br>\n<font color = red>**HINT**</font>: If you forget how to calculate the apparent resistivity, please refer to the lecture slides."
    },
    {
      "metadata": {},
      "cell_type": "markdown",
      "source": "(write down your answer to Task 2 here)\n"
    },
    {
      "metadata": {},
      "cell_type": "markdown",
      "source": "<font color = red>**Task 3**</font>: Change the locations of <font color=blue>**A**</font> and <font color=blue>**B**</font> electrodes to <font color = red>-10</font> m and <font color=red>10</font> m, respectively, while keeping the M and N electrodes at their current locations (i.e., DO NOT move M and N electrodes). Answer the following two questions <font color=red>**(10 points)**</font>: \n<br>\n1. How do the potential values, measured at M and N electrodes, change as we increase the distance between the two current electrodes (i.e., the A and B electrodes)?\n2. How does the apparent resistivity change?"
    },
    {
      "metadata": {},
      "cell_type": "markdown",
      "source": "(write down your answer to Task 3 here)\n"
    },
    {
      "metadata": {},
      "cell_type": "markdown",
      "source": "<font color = red>**Task 4**</font>: Now place the current electrodes at <font color=red>-20</font> m and <font color=red>20</font> m. How do the potential values measured at M and N electrodes change? How does the apparent resistivity change? What if we put the current electrodes at <font color=red>-30</font> m and <font color=red>30</font> m? <font color=red>**(10 points)**</font>: "
    },
    {
      "metadata": {},
      "cell_type": "markdown",
      "source": "(write down your answer to Task 4 here)\n"
    },
    {
      "metadata": {},
      "cell_type": "markdown",
      "source": "<font color = red>**Task 5**</font>: Compare the current density distribution from the above experiment in which we progressively increase the distance between the two current electrodes from 10 m to 20 m to 30 m and finally to 60 m. Summarize your observations below. <br>\n<br>\nBased on your observations, what should we do if we want to detect a target in the deeper subsurface. <font color=red>**(20 points)**</font>"
    },
    {
      "metadata": {},
      "cell_type": "markdown",
      "source": "(write down your answer to Task 5 here)\n"
    },
    {
      "metadata": {},
      "cell_type": "markdown",
      "source": "## 3. Explore the Plate app"
    },
    {
      "metadata": {
        "trusted": false
      },
      "cell_type": "code",
      "source": "from em_examples.DCWidgetPlate2_5D import plate_app",
      "execution_count": 4,
      "outputs": []
    },
    {
      "metadata": {},
      "cell_type": "markdown",
      "source": "### Set up\n\n<img src=\"https://github.com/geoscixyz/em_apps/blob/master/images/DC_PlateApp_Setup.png?raw=true\">"
    },
    {
      "metadata": {},
      "cell_type": "markdown",
      "source": "### Parameters:\n\n - **survey**: Type of survey\n - **A**: (+) Current electrode  location\n - **B**: (-) Current electrode  location\n - **M**: (+) Potential electrode  location\n - **N**: (-) Potential electrode  location\n - **dx**: width of plate\n - **dz**: height/thickness of plate\n - **xc**: x location of plate center\n - **zc**: z location of plate center\n - **$\\theta$**: rotation angle of plate from the horizontal\n - **$\\rho_1$**: Resistivity of the halfspace\n - **$\\rho_2$**: Resistivity of the plate\n - **Field**: Field to visualize\n - **Type**: which part of the field\n - **Scale**: Linear or Log Scale visualization\n \n###  **Do not forget to hit <font color=red>Run Interact</font> to update the figure after you made modifications**"
    },
    {
      "metadata": {
        "trusted": false
      },
      "cell_type": "code",
      "source": "app = plate_app();",
      "execution_count": 5,
      "outputs": [
        {
          "data": {
            "application/vnd.jupyter.widget-view+json": {
              "model_id": "3b62730262c74a15bb9e93df356d562f",
              "version_major": 2,
              "version_minor": 0
            },
            "text/plain": "interactive(children=(ToggleButtons(description='survey', options=('Dipole-Dipole', 'Dipole-Pole', 'Pole-Dipol…"
          },
          "metadata": {},
          "output_type": "display_data"
        }
      ]
    },
    {
      "metadata": {},
      "cell_type": "markdown",
      "source": "<font color = red>**Task 6**</font>: Create a model that has a plate embedded in a homogeneous halfspace. The resistivity for the homogeneous background is 500 Ohm\\*m, and that for the plate is 10 Ohm\\*m. To create the model, you will also need the following parameters: dx = 10 m, dz = 20 m, xc = 0 m, zc = -20 m, and $\\theta = 21^{\\circ}$.<br>\n<br>\nTo simulate the DC survey, let us place the A, B, M and N electrodes at -30.25 m, 30.25 m, -10.25 m, and 10.25 m.<br>\n<br>\nWhat do the <font color=red>**secondary**</font> **charges** look like? Include a picture of the secondary charges below.  <font color=red>**(20 points)**</font>\n<br>\n<font color = red>**HINT**: To include a picture, follow the following instructions: <br>\n    1. Right click the picture you want to save, and then save the picture to your computer.\n    2. Rename the picture (e.g., charge.png).\n    3. Click the 'File' button on the upper left corner. In the drop-down list, click 'Open ...'. You will be directed to a new webpage. \n    4. Click the 'upload' button to the right.\n    5. Then upload the picture that you just saved. If successful, you will see 'charge.png' appear in the list.\n    6. Come back to the current webpage, enter '<img src = 'charge.png'>' in a new Markdown cell, and then click 'Run'."
    },
    {
      "metadata": {},
      "cell_type": "markdown",
      "source": "(include your picture here)\n"
    },
    {
      "metadata": {},
      "cell_type": "markdown",
      "source": "<font color = red>**Task 7**</font>: Swap A and B electrodes and keep everything else unchanged. How do the secondary charges change? Also, include a picture of the secondary charges below. <font color=red>**(10 points)**</font>"
    },
    {
      "metadata": {
        "trusted": false
      },
      "cell_type": "code",
      "source": "(include your picture here)\n",
      "execution_count": null,
      "outputs": []
    },
    {
      "metadata": {},
      "cell_type": "markdown",
      "source": "Your picture should look very similar (ideally, identical) to the following one.\n<img src = 'charge_plate.png'>"
    },
    {
      "metadata": {},
      "cell_type": "markdown",
      "source": "<font color = red>**Task 8**</font>: Now that you have observed the opposite pattern of the secondary charge distribution when we exchange A and B electrodes, how would you explain it to someone who is not familar with electrical methods? <font color=red>**(10 points)**</font>"
    },
    {
      "metadata": {},
      "cell_type": "markdown",
      "source": "## 4. Bonus task\n<font color=red>**BONUS**</font>: There are many interesting questions you can ask and observations you can make by playing with these interactive apps. In this lab, I only asked a few questions above about the currents, apparent resistivities and charges. To get the bonus points, I encourge you to be creative by creating your own models and making some interesting and insightful obsevations. <font color=red>**(10 points)**</font>\n<br>\n<font color = red>**HINT**</font>: We have explored the LayeredEarth and Plate apps. You might want to explore other apps for the bonus task. I have included one app below for you to explore. This app allows you to create a layered Earth model with a cylinder embedded. "
    },
    {
      "metadata": {},
      "cell_type": "markdown",
      "source": "### Parameters\n - **survey**: Type of survey\n - **A**: Electrode A (+) location\n - **B**: Electrode B (-) location\n - **M**: Electrode A (+) location\n - **N**: Electrode B (-) location\n - **$dz_{layer}$**: thickness of the resistive layer\n - **$zc_{ayer}$**: z location of the resistive layer\n - **xc**: x location of cylinder center\n - **zc**: z location of cylinder center\n - **$\\rho_{1}$**: Resistivity of the half-space\n - **$\\rho_{2}$**: Resistivity of the layer\n - **$\\rho_{3}$**: Resistivity of the cylinder\n - **Field**: Field to visualize\n - **Type**: which part of the field\n - **Scale**: Linear or Log Scale visualization\n \n###  **Do not forget to hit Run Interact to update the figure after you made modifications**"
    },
    {
      "metadata": {
        "trusted": false
      },
      "cell_type": "code",
      "source": "from em_examples.DCWidgetResLayer2_5D import *\napp = ResLayer_app()",
      "execution_count": 6,
      "outputs": [
        {
          "data": {
            "application/vnd.jupyter.widget-view+json": {
              "model_id": "1aa1f39db707473c974a9fbeb93607fc",
              "version_major": 2,
              "version_minor": 0
            },
            "text/plain": "interactive(children=(ToggleButtons(description='survey', options=('Dipole-Dipole', 'Dipole-Pole', 'Pole-Dipol…"
          },
          "metadata": {},
          "output_type": "display_data"
        }
      ]
    },
    {
      "metadata": {},
      "cell_type": "markdown",
      "source": "## Acknowledgments\nThe apps that were used in this lab were developed by the [SimPEG](http://www.simpeg.xyz/) team. Most members are graduate students from [UBC-GIF](https://gif.eos.ubc.ca/about). I would like all SimPEG team members for their hard and awesome work!\n\n<img src = \"simpegteam.PNG\">"
    },
    {
      "metadata": {
        "trusted": true
      },
      "cell_type": "code",
      "source": "",
      "execution_count": null,
      "outputs": []
    }
  ],
  "metadata": {
    "kernelspec": {
      "name": "python36",
      "display_name": "Python 3.6",
      "language": "python"
    },
    "language_info": {
      "mimetype": "text/x-python",
      "nbconvert_exporter": "python",
      "name": "python",
      "pygments_lexer": "ipython3",
      "version": "3.6.6",
      "file_extension": ".py",
      "codemirror_mode": {
        "version": 3,
        "name": "ipython"
      }
    }
  },
  "nbformat": 4,
  "nbformat_minor": 2
}