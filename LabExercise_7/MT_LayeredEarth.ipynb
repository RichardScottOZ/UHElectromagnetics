{
  "cells": [
    {
      "metadata": {},
      "cell_type": "markdown",
      "source": "# Understanding magnetotellurics (MT)"
    },
    {
      "metadata": {},
      "cell_type": "markdown",
      "source": "In this lab exercise, we are going to use an interactive EM app to simulate the MT response due to a layered Earth. The objectie is to help students develop a better understanding of how MT signals are affected by various factors such as frequencies, depths and resistivities. <br>\n\nAfter finishing this exercise, students will understand <br>\n* the concept of skin depth, and how to use skin depth to estimate the frequency range that is necessary to detect a target at a given depth;\n* the apparent resistivity and its change with frequency; \n* the phase and its change with frequency;\n* the sensitivity of MT signals to a resistor vs. a conductor;\n* how the depth of a conductor affects the signals;\n* the non-uniqueness problem assocated with the MT method;\n* how magnetic permeability affects MT response.\n\nAuthor: Jiajia Sun at University of Houston, Nov 20th, 2018."
    },
    {
      "metadata": {
        "trusted": true
      },
      "cell_type": "code",
      "source": "!pip install -r ../requirements.txt",
      "execution_count": 1,
      "outputs": [
        {
          "output_type": "stream",
          "text": "Requirement already satisfied: numpy in /home/nbuser/anaconda3_420/lib/python3.5/site-packages (from -r ../requirements.txt (line 1)) (1.15.4)\nRequirement already satisfied: scipy in /home/nbuser/anaconda3_420/lib/python3.5/site-packages (from -r ../requirements.txt (line 2)) (1.1.0)\nRequirement already satisfied: matplotlib in /home/nbuser/anaconda3_420/lib/python3.5/site-packages (from -r ../requirements.txt (line 3)) (2.1.1)\nRequirement already satisfied: Pillow in /home/nbuser/anaconda3_420/lib/python3.5/site-packages (from -r ../requirements.txt (line 4)) (4.3.0)\nRequirement already satisfied: ipywidgets>=0.6.0 in /home/nbuser/anaconda3_420/lib/python3.5/site-packages (from -r ../requirements.txt (line 5)) (7.2.1)\nRequirement already satisfied: requests in /home/nbuser/anaconda3_420/lib/python3.5/site-packages (from -r ../requirements.txt (line 6)) (2.14.2)\nCollecting SimPEG (from -r ../requirements.txt (line 7))\n  Using cached https://files.pythonhosted.org/packages/28/12/eb784bea87f286b1a51d2ad7684304f4e926f44d50b1c7363d3b7d35d43e/SimPEG-0.9.3.tar.gz\nCollecting em_examples (from -r ../requirements.txt (line 8))\n  Using cached https://files.pythonhosted.org/packages/e8/39/1a285f68abfdbacc00deefbcd7d2053b6dd67d9ab384a4cbc70a523ae84c/em_examples-0.0.35-py3-none-any.whl\nCollecting empymod (from -r ../requirements.txt (line 9))\n  Using cached https://files.pythonhosted.org/packages/69/bd/db1846bd67f7314862a849e59e63480c5648f33e60b3b164b49af3e88ad9/empymod-1.8.1-py3-none-any.whl\nCollecting deepdish (from -r ../requirements.txt (line 10))\n  Using cached https://files.pythonhosted.org/packages/6e/39/2a47c852651982bc5eb39212ac110284dd20126bdc7b49bde401a0139f5d/deepdish-0.3.6-py2.py3-none-any.whl\nCollecting pymatsolver>=0.1.2 (from -r ../requirements.txt (line 11))\n  Using cached https://files.pythonhosted.org/packages/0f/5e/30e92dfe738cc3e28f52344484aa2c6e44872787b2edd789df0eaae04e3b/pymatsolver-0.1.2.tar.gz\nRequirement already satisfied: six>=1.10 in /home/nbuser/anaconda3_420/lib/python3.5/site-packages (from matplotlib->-r ../requirements.txt (line 3)) (1.11.0)\nRequirement already satisfied: python-dateutil>=2.0 in /home/nbuser/anaconda3_420/lib/python3.5/site-packages (from matplotlib->-r ../requirements.txt (line 3)) (2.7.5)\nRequirement already satisfied: pytz in /home/nbuser/anaconda3_420/lib/python3.5/site-packages (from matplotlib->-r ../requirements.txt (line 3)) (2016.6.1)\nRequirement already satisfied: cycler>=0.10 in /home/nbuser/anaconda3_420/lib/python3.5/site-packages (from matplotlib->-r ../requirements.txt (line 3)) (0.10.0)\nRequirement already satisfied: pyparsing!=2.0.4,!=2.1.2,!=2.1.6,>=2.0.1 in /home/nbuser/anaconda3_420/lib/python3.5/site-packages (from matplotlib->-r ../requirements.txt (line 3)) (2.1.4)\nRequirement already satisfied: olefile in /home/nbuser/anaconda3_420/lib/python3.5/site-packages (from Pillow->-r ../requirements.txt (line 4)) (0.44)\nRequirement already satisfied: ipykernel>=4.5.1 in /home/nbuser/anaconda3_420/lib/python3.5/site-packages (from ipywidgets>=0.6.0->-r ../requirements.txt (line 5)) (4.7.0)\nRequirement already satisfied: traitlets>=4.3.1 in /home/nbuser/anaconda3_420/lib/python3.5/site-packages (from ipywidgets>=0.6.0->-r ../requirements.txt (line 5)) (4.3.1)\nRequirement already satisfied: nbformat>=4.2.0 in /home/nbuser/anaconda3_420/lib/python3.5/site-packages (from ipywidgets>=0.6.0->-r ../requirements.txt (line 5)) (4.2.0)\nRequirement already satisfied: widgetsnbextension~=3.2.0 in /home/nbuser/anaconda3_420/lib/python3.5/site-packages (from ipywidgets>=0.6.0->-r ../requirements.txt (line 5)) (3.2.0)\nRequirement already satisfied: ipython>=4.0.0 in /home/nbuser/anaconda3_420/lib/python3.5/site-packages (from ipywidgets>=0.6.0->-r ../requirements.txt (line 5)) (6.2.1)\nRequirement already satisfied: cython in /home/nbuser/anaconda3_420/lib/python3.5/site-packages (from SimPEG->-r ../requirements.txt (line 7)) (0.24.1)\nCollecting properties>=0.5.2 (from SimPEG->-r ../requirements.txt (line 7))\n  Using cached https://files.pythonhosted.org/packages/22/74/b635f83a423697799fea8e195f6bd44ce53ca12d76ae62b2cc8cb978980d/properties-0.5.4.tar.gz\nCollecting vectormath>=0.2.0 (from SimPEG->-r ../requirements.txt (line 7))\n  Using cached https://files.pythonhosted.org/packages/c7/44/297304759e6e5076b5fe96cdef1dd7ff6e1c67b1e735a8284ab7f5555712/vectormath-0.2.0.tar.gz\nCollecting discretize>=0.2.0 (from SimPEG->-r ../requirements.txt (line 7))\n  Using cached https://files.pythonhosted.org/packages/59/21/b02369ff06c347566dacd328c62845641aa97c7f61b594c99e63e424dfd0/discretize-0.3.4.tar.gz\nCollecting geoana>=0.0.4 (from SimPEG->-r ../requirements.txt (line 7))\n  Using cached https://files.pythonhosted.org/packages/60/34/5715c1b3e35b4b7e0fdef463405c9ae5b073563f48118f2a54165be78cdc/geoana-0.0.5-py2.py3-none-any.whl\nRequirement already satisfied: future in /home/nbuser/anaconda3_420/lib/python3.5/site-packages (from em_examples->-r ../requirements.txt (line 8)) (0.17.1)\nRequirement already satisfied: jupyter in /home/nbuser/anaconda3_420/lib/python3.5/site-packages (from em_examples->-r ../requirements.txt (line 8)) (1.0.0)\nRequirement already satisfied: tables in /home/nbuser/anaconda3_420/lib/python3.5/site-packages (from deepdish->-r ../requirements.txt (line 10)) (3.4.2)\nCollecting pyMKL>=0.0.3 (from pymatsolver>=0.1.2->-r ../requirements.txt (line 11))\n  Using cached https://files.pythonhosted.org/packages/43/9d/0657fdb64d31a83c5caab80a70e55dac7658ba3fac7d1f43cbcca726b286/pyMKL-0.0.3.tar.gz\nRequirement already satisfied: jupyter_client in /home/nbuser/anaconda3_420/lib/python3.5/site-packages (from ipykernel>=4.5.1->ipywidgets>=0.6.0->-r ../requirements.txt (line 5)) (5.1.0)\nRequirement already satisfied: tornado>=4.0 in /home/nbuser/anaconda3_420/lib/python3.5/site-packages (from ipykernel>=4.5.1->ipywidgets>=0.6.0->-r ../requirements.txt (line 5)) (4.4.1)\nRequirement already satisfied: notebook>=4.4.1 in /home/nbuser/anaconda3_420/lib/python3.5/site-packages (from widgetsnbextension~=3.2.0->ipywidgets>=0.6.0->-r ../requirements.txt (line 5)) (5.0.0)\nRequirement already satisfied: setuptools>=18.5 in /home/nbuser/anaconda3_420/lib/python3.5/site-packages (from ipython>=4.0.0->ipywidgets>=0.6.0->-r ../requirements.txt (line 5)) (40.5.0)\nRequirement already satisfied: jedi>=0.10 in /home/nbuser/anaconda3_420/lib/python3.5/site-packages (from ipython>=4.0.0->ipywidgets>=0.6.0->-r ../requirements.txt (line 5)) (0.11.0)\nRequirement already satisfied: decorator in /home/nbuser/anaconda3_420/lib/python3.5/site-packages (from ipython>=4.0.0->ipywidgets>=0.6.0->-r ../requirements.txt (line 5)) (4.0.10)\nRequirement already satisfied: pickleshare in /home/nbuser/anaconda3_420/lib/python3.5/site-packages (from ipython>=4.0.0->ipywidgets>=0.6.0->-r ../requirements.txt (line 5)) (0.7.4)\nRequirement already satisfied: simplegeneric>0.8 in /home/nbuser/anaconda3_420/lib/python3.5/site-packages (from ipython>=4.0.0->ipywidgets>=0.6.0->-r ../requirements.txt (line 5)) (0.8.1)\nRequirement already satisfied: prompt_toolkit<2.0.0,>=1.0.4 in /home/nbuser/anaconda3_420/lib/python3.5/site-packages (from ipython>=4.0.0->ipywidgets>=0.6.0->-r ../requirements.txt (line 5)) (1.0.15)\nRequirement already satisfied: pygments in /home/nbuser/anaconda3_420/lib/python3.5/site-packages (from ipython>=4.0.0->ipywidgets>=0.6.0->-r ../requirements.txt (line 5)) (2.1.3)\nRequirement already satisfied: pexpect in /home/nbuser/anaconda3_420/lib/python3.5/site-packages (from ipython>=4.0.0->ipywidgets>=0.6.0->-r ../requirements.txt (line 5)) (4.0.1)\nCollecting utm (from geoana>=0.0.4->SimPEG->-r ../requirements.txt (line 7))\n  Using cached https://files.pythonhosted.org/packages/92/d9/8bdb3d477dcaf75e1a1021772892f729a055787a08aa472582c5d35a0b36/utm-0.4.2.tar.gz\nRequirement already satisfied: numexpr>=2.5.2 in /home/nbuser/anaconda3_420/lib/python3.5/site-packages (from tables->deepdish->-r ../requirements.txt (line 10)) (2.6.2)\nRequirement already satisfied: jupyter_core in /home/nbuser/anaconda3_420/lib/python3.5/site-packages (from jupyter_client->ipykernel>=4.5.1->ipywidgets>=0.6.0->-r ../requirements.txt (line 5)) (4.4.0)\nRequirement already satisfied: pyzmq>=13 in /home/nbuser/anaconda3_420/lib/python3.5/site-packages (from jupyter_client->ipykernel>=4.5.1->ipywidgets>=0.6.0->-r ../requirements.txt (line 5)) (15.4.0)\nRequirement already satisfied: parso==0.1.* in /home/nbuser/anaconda3_420/lib/python3.5/site-packages (from jedi>=0.10->ipython>=4.0.0->ipywidgets>=0.6.0->-r ../requirements.txt (line 5)) (0.1.1)\nRequirement already satisfied: wcwidth in /home/nbuser/anaconda3_420/lib/python3.5/site-packages (from prompt_toolkit<2.0.0,>=1.0.4->ipython>=4.0.0->ipywidgets>=0.6.0->-r ../requirements.txt (line 5)) (0.1.7)\nBuilding wheels for collected packages: SimPEG, pymatsolver, properties, vectormath, discretize, pyMKL, utm\n",
          "name": "stdout"
        },
        {
          "output_type": "stream",
          "text": "  Running setup.py bdist_wheel for SimPEG ... \u001b[?25ldone\n\u001b[?25h  Stored in directory: /home/nbuser/.cache/pip/wheels/79/7e/9f/42116619e24e22aedc80e1ebbb5b5dc4e5b0153269517350be\n  Running setup.py bdist_wheel for pymatsolver ... \u001b[?25ldone\n\u001b[?25h  Stored in directory: /home/nbuser/.cache/pip/wheels/09/66/a3/c540b8d29d1edab2bd4fabe368987aedc7fda18e742672be5b\n  Running setup.py bdist_wheel for properties ... \u001b[?25ldone\n\u001b[?25h  Stored in directory: /home/nbuser/.cache/pip/wheels/fe/73/b1/8f8f022858fbe7b9a1a211c7a1d1518e67a999be57875907a3\n  Running setup.py bdist_wheel for vectormath ... \u001b[?25ldone\n\u001b[?25h  Stored in directory: /home/nbuser/.cache/pip/wheels/a2/86/4d/f9890cfc126a83639eb2651f1e66f6d7f7bf0322b237f5a17b\n  Running setup.py bdist_wheel for discretize ... \u001b[?25ldone\n\u001b[?25h  Stored in directory: /home/nbuser/.cache/pip/wheels/e5/1c/93/fee8e5ce6f5db8af6d0d3ea5b11361d68fbcfac5e5c02cb4a1\n  Running setup.py bdist_wheel for pyMKL ... \u001b[?25ldone\n\u001b[?25h  Stored in directory: /home/nbuser/.cache/pip/wheels/d6/40/40/df64f35d394a22fbecae00749cb8e7071798a3554fac9e5abe\n  Running setup.py bdist_wheel for utm ... \u001b[?25ldone\n\u001b[?25h  Stored in directory: /home/nbuser/.cache/pip/wheels/1d/2d/5a/4c6320941f607ffefd353e1bb715e33a250a59f835cf0fbdd8\nSuccessfully built SimPEG pymatsolver properties vectormath discretize pyMKL utm\nInstalling collected packages: pyMKL, pymatsolver, properties, vectormath, discretize, utm, geoana, SimPEG, empymod, deepdish, em-examples\nSuccessfully installed SimPEG-0.9.3 deepdish-0.3.6 discretize-0.3.4 em-examples-0.0.35 empymod-1.8.1 geoana-0.0.5 properties-0.5.4 pyMKL-0.0.3 pymatsolver-0.1.2 utm-0.4.2 vectormath-0.2.0\n",
          "name": "stdout"
        }
      ]
    },
    {
      "metadata": {
        "collapsed": true,
        "trusted": false
      },
      "cell_type": "code",
      "source": "from em_examples.MT import MT1D_app\nfrom IPython.display import display\n%matplotlib inline",
      "execution_count": 2,
      "outputs": []
    },
    {
      "metadata": {
        "collapsed": true,
        "trusted": false
      },
      "cell_type": "code",
      "source": "from matplotlib import rcParams\nrcParams['font.size'] = 20",
      "execution_count": 3,
      "outputs": []
    },
    {
      "metadata": {},
      "cell_type": "markdown",
      "source": "# Magnetotelluric: Forward Modelling for 1 to 3 layers"
    },
    {
      "metadata": {},
      "cell_type": "markdown",
      "source": "Here you can visualize Magnetotelluric (MT) response of a layered earth, up to 3 layers in this interactive notebook.\n- **fmin**: smallest measured frequency (Hz) \n- **fmax**: highest measured frequency (Hz)\n- **nbdata**: number of data points evenly spaced between **fmin** and **fmax** \n- **h** (i): thickness of the layer i. Put it to zero to remove one layer\n- **$\\rho_i$**: electrical resistivity of the layer i, in ohm-m\n- **$\\varepsilon_i$**: relative dielectric permittivity $\\varepsilon_r$ of the layer i\n- **$\\mu_i$**: relative magnetic permittivity $\\mu_r$ of the layer i\n- **Plot Envelope fields**: If activated (might be slow), plot the envelope of the E and H field for a given frequency (see fenvelope)\n- **F**: plot the envelope for of the waves at 'F' Hz"
    },
    {
      "metadata": {
        "scrolled": false,
        "trusted": false
      },
      "cell_type": "code",
      "source": "app = MT1D_app()\ndisplay(app)",
      "execution_count": 8,
      "outputs": [
        {
          "data": {
            "application/vnd.jupyter.widget-view+json": {
              "model_id": "c8ed4026381e4855bb90290504230b7d"
            }
          },
          "metadata": {},
          "output_type": "display_data"
        }
      ]
    },
    {
      "metadata": {},
      "cell_type": "markdown",
      "source": "<font color = red>**Task 1**</font>: Set $h_1$ = 500 $m$, $h_2$ = 1000 $m$, $\\rho_1$ = 100 $\\Omega \\cdot m$, $\\rho_2$ = <font color = blue>10</font> $\\Omega \\cdot m$, and $\\rho_3$ = 100 $\\Omega \\cdot m$. Keep everything else unchanged. <font color=red>**(10 points)**</font>\n- In order to detect the conductive layer (i.e., the second layer) whose depth is 500 $m$, the frequency should be lower than __ Hz? (HINT: Rememer skin depth $\\delta$ = $500 \\sqrt{\\frac{\\rho}{f}}$)."
    },
    {
      "metadata": {
        "collapsed": true,
        "trusted": false
      },
      "cell_type": "code",
      "source": "(answer to Task 1:)\n",
      "execution_count": null,
      "outputs": []
    },
    {
      "metadata": {
        "collapsed": true
      },
      "cell_type": "markdown",
      "source": "<font color = red>**Task 2**</font>: Use the same parameter setup. In the top left panel, at which frequency does the apparent resistivity start to decrease? How does this frequency compare with what you obtained above in Task 1? <font color=red>**(10 points)**</font>"
    },
    {
      "metadata": {
        "collapsed": true,
        "trusted": false
      },
      "cell_type": "code",
      "source": "(answer to Task 2:)\n",
      "execution_count": null,
      "outputs": []
    },
    {
      "metadata": {},
      "cell_type": "markdown",
      "source": "<font color = red>**Task 3**</font>: Again, use the same parameter setup. <font color=red>**(15 points)**</font>\n- Explain the behavior of the apparent resistivities at various frequencies using the concept of skin depth. \n- What is the lowest apparent resistivity? (Do not have to be accurate. A rough estimate based on the top left panel would be good.) How does the lowest apparent resistivity compare with the background resistivity, i.e., 100 $\\Omega \\cdot m$?\n- Explain the behavior of the phase. "
    },
    {
      "metadata": {
        "collapsed": true,
        "trusted": false
      },
      "cell_type": "code",
      "source": "(answer to Task 3:)\n",
      "execution_count": null,
      "outputs": []
    },
    {
      "metadata": {},
      "cell_type": "markdown",
      "source": "<font color = red>**Task 4**</font>: Set $h_1$ = 500 $m$, $h_2$ = 1000 $m$, $\\rho_1$ = 100 $\\Omega \\cdot m$, <font color = blue>1000</font> $\\Omega \\cdot m$ and $\\rho_3$ = 100 $\\Omega \\cdot m$. Keep everything else unchanged. <font color=red>**(15  points)**</font>\n- Explain the behaves at various frequencies using the concept of skin depth. \n- What is the largest apparent resistivity? (Do not have to be accurate. A rough estimate based on the top left panel would be good.) How does the largest apparent resistivity compare with the background resistivity, i.e., 100 $\\Omega \\cdot m$?\n- Explain the behavior of the phase. "
    },
    {
      "metadata": {
        "collapsed": true,
        "trusted": false
      },
      "cell_type": "code",
      "source": "(answer to Task 4:)\n\n",
      "execution_count": null,
      "outputs": []
    },
    {
      "metadata": {},
      "cell_type": "markdown",
      "source": "<font color = red>**Task 5**</font>: Based on the above two experiments, do you think the MT method is more sensitive to the existence of a resistor or a conductor? Why? <font color=red>**(10 points)**</font>"
    },
    {
      "metadata": {
        "collapsed": true,
        "trusted": false
      },
      "cell_type": "code",
      "source": "(answer to Task 5:)\n\n",
      "execution_count": null,
      "outputs": []
    },
    {
      "metadata": {},
      "cell_type": "markdown",
      "source": "<font color = red>**Task 6**</font>: Set $h_2$ = 100 $m$, $\\rho_1$ = 100 $\\Omega \\cdot m$, $\\rho_2$ = <font color = blue>10</font> $\\Omega \\cdot m$ and $\\rho_3$ = 100 $\\Omega \\cdot m$. Keep everything else unchanged. Now keep increasing $h_1$ from 50 $m$, all the way up to 3000 $m$. <font color=red>**(10 points)**</font>\n- Summarize your observations as the depth to the top of the conductive layer becomes larger than larger. (HINT: Summarize how the apparent resistivity and phase values change when the depth changes.)\n- Explain your observations. HINT: If you observe the apparent resistivity decreases (or increases), explain why."
    },
    {
      "metadata": {
        "collapsed": true
      },
      "cell_type": "markdown",
      "source": "(answer to Task 6:)\n\n"
    },
    {
      "metadata": {},
      "cell_type": "markdown",
      "source": "<font color = red>**Task 7**</font>: Set $h_1$ = 1000 $m$, $h_2$ = 100 $m$, $\\rho_1$ = 100 $\\Omega \\cdot m$, $\\rho_2$ = <font color = blue>10</font> $\\Omega \\cdot m$ and $\\rho_3$ = 100 $\\Omega \\cdot m$. Keep everything else unchanged. Now change $\\rho_2$ to <font color = blue>1</font> $\\Omega \\cdot m$. How do the apparent resistivity and phase change? Explain why. <font color=red>**(10 points)**</font>"
    },
    {
      "metadata": {
        "collapsed": true,
        "trusted": false
      },
      "cell_type": "code",
      "source": "(answer to Task 7: )\n\n",
      "execution_count": null,
      "outputs": []
    },
    {
      "metadata": {},
      "cell_type": "markdown",
      "source": "<font color = red>**Task 8**</font>: Set $h_1$ = 1000 $m$, $h_2$ = 100 $m$, $\\rho_1$ = 100 $\\Omega \\cdot m$, $\\rho_2$ = <font color = blue>1</font> $\\Omega \\cdot m$ and $\\rho_3$ = 100 $\\Omega \\cdot m$. Keep everything else unchanged. Observe the apparent resistivity and phase curves. Now set $\\rho_2$ = <font color = blue>5</font> $\\Omega \\cdot m$, and $h_2$ = 500 $m$. Compare the updated resistivity and phase curves with previous ones. Do you see much change? Explain the change you have observed.  <font color=red>**(10 points)**</font>"
    },
    {
      "metadata": {},
      "cell_type": "markdown",
      "source": "(answer to Task 8:)\n"
    },
    {
      "metadata": {
        "collapsed": true
      },
      "cell_type": "markdown",
      "source": "<font color = red>**Task 9**</font>: Set $h_1$ = 500 $m$, $h_2$ = 1000 $m$, $\\rho_1$ = 100 $\\Omega \\cdot m$, $\\rho_2$ = <font color = blue>10</font> $\\Omega \\cdot m$ and $\\rho_3$ = 100 $\\Omega \\cdot m$. Keep everything else unchanged.  <font color=red>**(10 points)**</font>\n- Set $\\mu_1$ = 1.0, $\\mu_2$ = 1.20, and $\\mu_3$ = 1.0 (i.e., we make the second layer magnetic). How does the apparent resistivity change (compared with the apparent resistivity obtained when $\\mu_1$ = $\\mu_2$ = $\\mu_3$ = 1.0)?\n- Set $\\mu_1$ = 1.0, $\\mu_2$ = 1.20, and $\\mu_3$ = 1.2 (i.e., we make both the second layer and the underlying halfspace magnetic). How does the apparent resistivity change (compared with the apparent resistivity you obtained from previous step?"
    },
    {
      "metadata": {
        "collapsed": true,
        "trusted": false
      },
      "cell_type": "code",
      "source": "(answer to Task 9:)\n",
      "execution_count": null,
      "outputs": []
    },
    {
      "metadata": {},
      "cell_type": "markdown",
      "source": "## Acknowledgments\nThe apps that were used in this lab were developed by the [SimPEG](http://www.simpeg.xyz/) team. Most members are graduate students from [UBC-GIF](https://gif.eos.ubc.ca/about). I would like all SimPEG team members for their hard and awesome work!\n\n<img src = \"simpegteam.PNG\">"
    },
    {
      "metadata": {
        "collapsed": true,
        "trusted": false
      },
      "cell_type": "code",
      "source": "",
      "execution_count": null,
      "outputs": []
    }
  ],
  "metadata": {
    "anaconda-cloud": {},
    "kernelspec": {
      "name": "python3",
      "display_name": "Python 3",
      "language": "python"
    },
    "language_info": {
      "mimetype": "text/x-python",
      "nbconvert_exporter": "python",
      "name": "python",
      "pygments_lexer": "ipython3",
      "version": "3.5.4",
      "file_extension": ".py",
      "codemirror_mode": {
        "version": 3,
        "name": "ipython"
      }
    },
    "widgets": {
      "state": {
        "edab05a8629541f0ba6b6f254516fa0a": {
          "views": [
            {
              "cell_index": 3
            }
          ]
        }
      },
      "version": "1.2.0"
    }
  },
  "nbformat": 4,
  "nbformat_minor": 1
}